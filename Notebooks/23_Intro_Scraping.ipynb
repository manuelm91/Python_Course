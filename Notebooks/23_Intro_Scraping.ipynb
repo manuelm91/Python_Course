{
 "cells": [
  {
   "cell_type": "markdown",
   "metadata": {},
   "source": [
    "# Introduction to Python  \n",
    "\n",
    "### Introduction to Scraping"
   ]
  },
  {
   "cell_type": "code",
   "execution_count": 1,
   "metadata": {},
   "outputs": [],
   "source": [
    "#import pylab\n",
    "import re\n",
    "import pandas as pd\n",
    "import numpy as np\n",
    "import matplotlib.pyplot as plt\n",
    "import seaborn as sns\n",
    "\n",
    "import requests\n",
    "import urllib\n",
    "from bs4 import BeautifulSoup as bs\n",
    "\n",
    "%matplotlib inline\n",
    "#%matplotlib notebook"
   ]
  },
  {
   "cell_type": "markdown",
   "metadata": {},
   "source": [
    "### Scraping HTML tables with Pandas"
   ]
  },
  {
   "cell_type": "code",
   "execution_count": 2,
   "metadata": {},
   "outputs": [
    {
     "data": {
      "text/plain": [
       "12"
      ]
     },
     "execution_count": 2,
     "metadata": {},
     "output_type": "execute_result"
    }
   ],
   "source": [
    "url1=\"https://en.wikipedia.org/wiki/List_of_cities_and_towns_in_Austria\"\n",
    "list_df_tables = pd.read_html(url1)\n",
    "len(list_df_tables)"
   ]
  },
  {
   "cell_type": "code",
   "execution_count": 77,
   "metadata": {},
   "outputs": [
    {
     "data": {
      "text/html": [
       "<div>\n",
       "<style scoped>\n",
       "    .dataframe tbody tr th:only-of-type {\n",
       "        vertical-align: middle;\n",
       "    }\n",
       "\n",
       "    .dataframe tbody tr th {\n",
       "        vertical-align: top;\n",
       "    }\n",
       "\n",
       "    .dataframe thead tr th {\n",
       "        text-align: left;\n",
       "    }\n",
       "</style>\n",
       "<table border=\"1\" class=\"dataframe\">\n",
       "  <thead>\n",
       "    <tr>\n",
       "      <th></th>\n",
       "      <th>Rank</th>\n",
       "      <th>Name</th>\n",
       "      <th colspan=\"3\" halign=\"left\">Population</th>\n",
       "      <th>State</th>\n",
       "    </tr>\n",
       "    <tr>\n",
       "      <th></th>\n",
       "      <th>Rank</th>\n",
       "      <th>Name</th>\n",
       "      <th>1991</th>\n",
       "      <th>2001</th>\n",
       "      <th>2015[1]</th>\n",
       "      <th>State</th>\n",
       "    </tr>\n",
       "  </thead>\n",
       "  <tbody>\n",
       "    <tr>\n",
       "      <th>0</th>\n",
       "      <td>1.0</td>\n",
       "      <td>Vienna</td>\n",
       "      <td>1539848</td>\n",
       "      <td>1550123</td>\n",
       "      <td>1840573</td>\n",
       "      <td>Vienna</td>\n",
       "    </tr>\n",
       "    <tr>\n",
       "      <th>1</th>\n",
       "      <td>2.0</td>\n",
       "      <td>Graz</td>\n",
       "      <td>237810</td>\n",
       "      <td>226244</td>\n",
       "      <td>273838</td>\n",
       "      <td>Styria</td>\n",
       "    </tr>\n",
       "    <tr>\n",
       "      <th>2</th>\n",
       "      <td>3.0</td>\n",
       "      <td>Linz</td>\n",
       "      <td>203044</td>\n",
       "      <td>183504</td>\n",
       "      <td>198181</td>\n",
       "      <td>Upper Austria</td>\n",
       "    </tr>\n",
       "    <tr>\n",
       "      <th>3</th>\n",
       "      <td>4.0</td>\n",
       "      <td>Salzburg</td>\n",
       "      <td>143978</td>\n",
       "      <td>142662</td>\n",
       "      <td>148420</td>\n",
       "      <td>Salzburg</td>\n",
       "    </tr>\n",
       "    <tr>\n",
       "      <th>4</th>\n",
       "      <td>5.0</td>\n",
       "      <td>Innsbruck</td>\n",
       "      <td>118112</td>\n",
       "      <td>113392</td>\n",
       "      <td>126851</td>\n",
       "      <td>Tyrol</td>\n",
       "    </tr>\n",
       "  </tbody>\n",
       "</table>\n",
       "</div>"
      ],
      "text/plain": [
       "  Rank       Name Population                            State\n",
       "  Rank       Name       1991     2001  2015[1]          State\n",
       "0  1.0     Vienna    1539848  1550123  1840573         Vienna\n",
       "1  2.0       Graz     237810   226244   273838         Styria\n",
       "2  3.0       Linz     203044   183504   198181  Upper Austria\n",
       "3  4.0   Salzburg     143978   142662   148420       Salzburg\n",
       "4  5.0  Innsbruck     118112   113392   126851          Tyrol"
      ]
     },
     "execution_count": 77,
     "metadata": {},
     "output_type": "execute_result"
    }
   ],
   "source": [
    "list_df_tables[0].head()"
   ]
  },
  {
   "cell_type": "code",
   "execution_count": 4,
   "metadata": {},
   "outputs": [
    {
     "data": {
      "text/html": [
       "<div>\n",
       "<style scoped>\n",
       "    .dataframe tbody tr th:only-of-type {\n",
       "        vertical-align: middle;\n",
       "    }\n",
       "\n",
       "    .dataframe tbody tr th {\n",
       "        vertical-align: top;\n",
       "    }\n",
       "\n",
       "    .dataframe thead th {\n",
       "        text-align: right;\n",
       "    }\n",
       "</style>\n",
       "<table border=\"1\" class=\"dataframe\">\n",
       "  <thead>\n",
       "    <tr style=\"text-align: right;\">\n",
       "      <th></th>\n",
       "      <th>Federal state</th>\n",
       "      <th>Community Name</th>\n",
       "      <th>Status</th>\n",
       "      <th>Population</th>\n",
       "    </tr>\n",
       "  </thead>\n",
       "  <tbody>\n",
       "    <tr>\n",
       "      <th>0</th>\n",
       "      <td>Burgenland</td>\n",
       "      <td>Andau</td>\n",
       "      <td>Market town</td>\n",
       "      <td>2285</td>\n",
       "    </tr>\n",
       "    <tr>\n",
       "      <th>1</th>\n",
       "      <td>Burgenland</td>\n",
       "      <td>Antau</td>\n",
       "      <td>Other municipality</td>\n",
       "      <td>758</td>\n",
       "    </tr>\n",
       "    <tr>\n",
       "      <th>2</th>\n",
       "      <td>Burgenland</td>\n",
       "      <td>Apetlon</td>\n",
       "      <td>Market town</td>\n",
       "      <td>1760</td>\n",
       "    </tr>\n",
       "    <tr>\n",
       "      <th>3</th>\n",
       "      <td>Burgenland</td>\n",
       "      <td>Bad Sauerbrunn</td>\n",
       "      <td>Other municipality</td>\n",
       "      <td>2219</td>\n",
       "    </tr>\n",
       "    <tr>\n",
       "      <th>4</th>\n",
       "      <td>Burgenland</td>\n",
       "      <td>Bad Tatzmannsdorf</td>\n",
       "      <td>Other municipality</td>\n",
       "      <td>1554</td>\n",
       "    </tr>\n",
       "  </tbody>\n",
       "</table>\n",
       "</div>"
      ],
      "text/plain": [
       "  Federal state     Community Name              Status  Population\n",
       "0    Burgenland              Andau         Market town        2285\n",
       "1    Burgenland              Antau  Other municipality         758\n",
       "2    Burgenland            Apetlon         Market town        1760\n",
       "3    Burgenland     Bad Sauerbrunn  Other municipality        2219\n",
       "4    Burgenland  Bad Tatzmannsdorf  Other municipality        1554"
      ]
     },
     "execution_count": 4,
     "metadata": {},
     "output_type": "execute_result"
    }
   ],
   "source": [
    "list_df_tables[2].head()"
   ]
  },
  {
   "cell_type": "markdown",
   "metadata": {},
   "source": [
    "### Scraping using [Requests](https://docs.python-requests.org/en/master/)"
   ]
  },
  {
   "cell_type": "code",
   "execution_count": 79,
   "metadata": {},
   "outputs": [
    {
     "name": "stdout",
     "output_type": "stream",
     "text": [
      "200\n"
     ]
    }
   ],
   "source": [
    "url2 = 'https://www.wienerzeitung.at/nachrichten/politik/oesterreich/2107909-Haertere-steirische-Impfanreize.html' \n",
    "content = requests.get(url2)\n",
    "print(content.status_code)"
   ]
  },
  {
   "cell_type": "markdown",
   "metadata": {},
   "source": [
    "Check [HTTP status codes](https://developer.mozilla.org/pt-BR/docs/Web/HTTP/Status) "
   ]
  },
  {
   "cell_type": "markdown",
   "metadata": {},
   "source": [
    "#### Getting html content of the page "
   ]
  },
  {
   "cell_type": "code",
   "execution_count": 80,
   "metadata": {},
   "outputs": [
    {
     "data": {
      "text/plain": [
       "'<!DOCTYPE html>\\n<html lang=\"de\">\\n<head>\\n<meta charset=\"utf-8\" />\\n<meta http-equiv=\"cache-control\" content=\"no-cache\" />\\n<meta http-equiv=\"pragma\" content=\"no-cache\" />\\n<meta name=\"robots\" content=\"index, follow, noarchive\" />\\n<meta name=\"content-language\" content=\"de\" />\\n<meta name=\"description\" content=\"Am Donnerstag ging es zwar &quot;nur&quot; um eine Impfkampagne. Der steirische Landeshauptmann Hermann Sch&uuml;tzenh&ouml;fer plant aber die Corona-Impfung als Voraussetzung bei Neueinstellung von Kindergartenpersonal.\" />\\n<meta name=\"author\" content=\"Martina Madner\" />\\n<meta name=\"copyright\" content=\"Wiener Zeitung Online\" />\\n<meta property=\"og:type\" content=\"article\" />\\n<meta property=\"og:title\" content=\"Impfpflicht - H&auml;rtere steirische Impfanreize\" />\\n<meta property=\"og:description\" content=\"Am Donnerstag ging es zwar &quot;nur&quot; um eine Impfkampagne. Der steirische Landeshauptmann Hermann Sch&uuml;tzenh&ouml;fer plant aber die Corona-Impfung als...\" />\\n<meta property=\"og'"
      ]
     },
     "execution_count": 80,
     "metadata": {},
     "output_type": "execute_result"
    }
   ],
   "source": [
    "content.text[0:1000]"
   ]
  },
  {
   "cell_type": "markdown",
   "metadata": {},
   "source": [
    "### Using [Beautiful Soup](https://www.crummy.com/software/BeautifulSoup/bs4/doc/)"
   ]
  },
  {
   "cell_type": "code",
   "execution_count": 81,
   "metadata": {},
   "outputs": [
    {
     "name": "stdout",
     "output_type": "stream",
     "text": [
      "<class 'bs4.BeautifulSoup'>\n"
     ]
    }
   ],
   "source": [
    "soup = bs(content.text,'lxml')\n",
    "print(type(soup))"
   ]
  },
  {
   "cell_type": "markdown",
   "metadata": {},
   "source": [
    "#### Getting formatted html content of the page "
   ]
  },
  {
   "cell_type": "code",
   "execution_count": 82,
   "metadata": {},
   "outputs": [
    {
     "name": "stdout",
     "output_type": "stream",
     "text": [
      "<!DOCTYPE html>\n",
      "<html lang=\"de\">\n",
      " <head>\n",
      "  <meta charset=\"utf-8\"/>\n",
      "  <meta content=\"no-cache\" http-equiv=\"cache-control\"/>\n",
      "  <meta content=\"no-cache\" http-equiv=\"pragma\"/>\n",
      "  <meta content=\"index, follow, noarchive\" name=\"robots\"/>\n",
      "  <meta content=\"de\" name=\"content-language\"/>\n",
      "  <meta content='Am Donnerstag ging es zwar \"nur\" um eine Impfkampagne. Der steirische Landeshauptmann Hermann Schützenhöfer plant aber die Corona-Impfung als Voraussetzung bei Neueinstellung von Kindergartenpersonal.' name=\"description\"/>\n",
      "  <meta content=\"Martina Madner\" name=\"author\"/>\n",
      "  <meta content=\"Wiener Zeitung Online\" name=\"copyright\"/>\n",
      "  <meta content=\"article\" property=\"og:type\"/>\n",
      "  <meta content=\"Impfpflicht - Härtere steirische Impfanreize\" property=\"og:title\"/>\n",
      "  <meta content='Am Donnerstag ging es zwar \"nur\" um eine Impfkampagne. Der steirische Landeshauptmann Hermann Schützenhöfer plant aber die Corona-Impfung als...' property=\"og:description\"/>\n",
      "  <meta content=\"Österreich Politik - Nachrichten -\n"
     ]
    }
   ],
   "source": [
    "print(soup.prettify()[0:1000])"
   ]
  },
  {
   "cell_type": "markdown",
   "metadata": {},
   "source": [
    "#### Getting text of the page "
   ]
  },
  {
   "cell_type": "code",
   "execution_count": 84,
   "metadata": {},
   "outputs": [
    {
     "name": "stdout",
     "output_type": "stream",
     "text": [
      "ete Werbekampagne f&uuml;rs Impfen in der Steiermark. Es spricht von einer \\\"gewissen Impfm&uuml;digkeit, die eingetreten ist, da rede ich nicht um den hei&szlig;en Brei herum: Die Anmeldungen sind zur&uuml;ckgegangen.\\\" 560.000 von 1,1 Millionen impfbaren Steirerinnen und Steirern sind erstgeimpft, 227.000 auch ein zweites Mal. Sein Appell: \\\"Wir werden alles versuchen, damit sich die Menschen impfen lassen. Es ist noch nicht vorbei.\\\"<\\/p>\\n<p>In der ORF-\\\"Pressestunde\\\" sprach Sch&uuml;tzenh&ouml;fer von einem \\\"sch&auml;bigem Verhalten\\\" der Impfunwilligen. Auf die Frage, ob er sich eine Sars-CoV-2-Schutzimpfungspflicht f&uuml;r das Kindergartenpersonal vorstellen k&ouml;nne, sagte er: \\\"Ich w&auml;re pers&ouml;nlich daf&uuml;r, der Verfassungsdienst des Bundes sagt aber: Nein, das geht nicht\\\" - und lie&szlig; dann aufhorchen: \\\"Aber: Jedes Land kann selber etwas bei der Aufnahme tun. Das will ich in den Bereichen des Landes selbstverst&auml;ndlich so machen.\\\"<\\/p>\\n<p>Impfnachz&\n"
     ]
    }
   ],
   "source": [
    "print(soup.get_text()[9000:10000])"
   ]
  },
  {
   "cell_type": "code",
   "execution_count": 85,
   "metadata": {},
   "outputs": [
    {
     "name": "stdout",
     "output_type": "stream",
     "text": [
      "<title>Impfpflicht - Härtere steirische Impfanreize - Wiener Zeitung Online</title>\n"
     ]
    }
   ],
   "source": [
    "print(soup.title)"
   ]
  },
  {
   "cell_type": "markdown",
   "metadata": {},
   "source": [
    "#### Extracting anchors and links"
   ]
  },
  {
   "cell_type": "code",
   "execution_count": 86,
   "metadata": {},
   "outputs": [
    {
     "data": {
      "text/plain": [
       "[<a href=\"/abonnement\">Abo</a>,\n",
       " <a href=\"/epaper\" target=\"extern\">E-Paper</a>,\n",
       " <a href=\"/beilagen\">Magazine</a>,\n",
       " <a href=\"/\">\n",
       " <i class=\"fal fa-history fa-lg fa-fw\"></i><span class=\"notification-counter meldung-counter\"></span>\n",
       " </a>,\n",
       " <a class=\"mobile-search-button mobile-search-closed\" data-overlay=\"overlay-search\" href=\"javascript:void(0);\" title=\"Suche\"><i class=\"far fa-search\"></i></a>,\n",
       " <a class=\"logo-wzo\" href=\"/\" itemprop=\"url\" title=\"\">\n",
       " <img alt=\"Wiener Zeitung\" height=\"30\" src=\"/_em_daten/wzo/assets/img/WZ-Logo.svg\"/>\n",
       " <img class=\"hidden\" height=\"0\" itemprop=\"logo\" src=\"/_em_daten/wzo/assets/img/favicons/wzo-512.png\"/>\n",
       " </a>,\n",
       " <a class=\"mobile-menu-button\" href=\"javascript:void(0);\" title=\"Hauptmenü\"><i class=\"far fa-bars\"></i></a>,\n",
       " <a data-preview=\"\" data-preview-count=\"4\" href=\"https://www.wienerzeitung.at/nachrichten/politik/\" target=\"_top\" title=\"Politik\">Politik</a>,\n",
       " <a data-preview=\"\" data-preview-count=\"4\" href=\"https://www.wienerzeitung.at/nachrichten/kultur/\" target=\"_top\" title=\"Kultur\">Kultur</a>,\n",
       " <a data-preview=\"\" data-preview-count=\"4\" href=\"https://www.wienerzeitung.at/nachrichten/wirtschaft/\" target=\"_top\" title=\"Wirtschaft\">Wirtschaft</a>,\n",
       " <a data-preview=\"\" data-preview-count=\"4\" href=\"https://www.wienerzeitung.at/amtsblatt/aktuelle-ausgabe/\" target=\"_top\" title=\"Amtsblatt\">Amtsblatt</a>,\n",
       " <a data-preview=\"\" data-preview-count=\"4\" href=\"https://www.wienerzeitung.at/dossiers/\" target=\"_top\" title=\"Dossiers\">Dossiers</a>,\n",
       " <a data-preview=\"\" data-preview-count=\"4\" href=\"https://www.wienerzeitung.at/meinung/\" target=\"_top\" title=\"Meinung\">Meinung</a>,\n",
       " <a class=\"overlay-close\" href=\"javascript:void(0);\" id=\"overlay_close\" title=\"Suche schließen\"><i class=\"fal fa-times fa-lg\"></i></a>,\n",
       " <a href=\"https://www.wienerzeitung.at/nachrichten/politik/\" target=\"_top\" title=\"Nachrichten\">Nachrichten</a>,\n",
       " <a href=\"https://www.wienerzeitung.at/nachrichten/politik/\" target=\"_top\" title=\"Politik\">Politik</a>,\n",
       " <a href=\"https://www.wienerzeitung.at/nachrichten/wirtschaft/\" target=\"_top\" title=\"Wirtschaft\">Wirtschaft</a>,\n",
       " <a href=\"https://www.wienerzeitung.at/nachrichten/kultur/\" target=\"_top\" title=\"Kultur\">Kultur</a>,\n",
       " <a href=\"https://www.wienerzeitung.at/nachrichten/chronik/\" target=\"_top\" title=\"Chronik\">Chronik</a>,\n",
       " <a href=\"https://www.wienerzeitung.at/nachrichten/wissen/\" target=\"_top\" title=\"Wissen\">Wissen</a>]"
      ]
     },
     "execution_count": 86,
     "metadata": {},
     "output_type": "execute_result"
    }
   ],
   "source": [
    "soup.find_all('a')[0:20]"
   ]
  },
  {
   "cell_type": "markdown",
   "metadata": {},
   "source": [
    "#### Extracting only the *href* of anchors and links"
   ]
  },
  {
   "cell_type": "code",
   "execution_count": 97,
   "metadata": {},
   "outputs": [
    {
     "name": "stdout",
     "output_type": "stream",
     "text": [
      "/abonnement\n",
      "/epaper\n",
      "/beilagen\n",
      "/\n",
      "javascript:void(0);\n",
      "/\n",
      "javascript:void(0);\n",
      "https://www.wienerzeitung.at/nachrichten/politik/\n",
      "https://www.wienerzeitung.at/nachrichten/kultur/\n",
      "https://www.wienerzeitung.at/nachrichten/wirtschaft/\n"
     ]
    }
   ],
   "source": [
    "for link in soup.find_all('a')[0:10]:\n",
    "    print(link.get('href'))\n",
    "    #print(link.text)"
   ]
  },
  {
   "cell_type": "markdown",
   "metadata": {},
   "source": [
    "#### Extracting only *http* and *https* from *href* links"
   ]
  },
  {
   "cell_type": "code",
   "execution_count": 13,
   "metadata": {},
   "outputs": [
    {
     "name": "stdout",
     "output_type": "stream",
     "text": [
      "https://www.wienerzeitung.at/nachrichten/politik/\n",
      "https://www.wienerzeitung.at/nachrichten/kultur/\n",
      "https://www.wienerzeitung.at/nachrichten/wirtschaft/\n",
      "https://www.wienerzeitung.at/amtsblatt/aktuelle-ausgabe/\n",
      "https://www.wienerzeitung.at/dossiers/\n",
      "https://www.wienerzeitung.at/meinung/\n",
      "https://www.wienerzeitung.at/nachrichten/politik/\n",
      "https://www.wienerzeitung.at/nachrichten/politik/\n",
      "https://www.wienerzeitung.at/nachrichten/wirtschaft/\n",
      "https://www.wienerzeitung.at/nachrichten/kultur/\n",
      "https://www.wienerzeitung.at/nachrichten/chronik/\n",
      "https://www.wienerzeitung.at/nachrichten/wissen/\n",
      "https://www.wienerzeitung.at/nachrichten/sport/\n",
      "https://www.wienerzeitung.at/nachrichten/wahlen/\n",
      "https://www.wienerzeitung.at/nachrichten/zeitreisen-rubriken/\n",
      "https://www.wienerzeitung.at/nachrichten/reflexionen/\n",
      "https://www.wienerzeitung.at/nachrichten/digital/\n",
      "https://www.wienerzeitung.at/amtsblatt/aktuelle-ausgabe/\n",
      "https://www.wienerzeitung.at/amtsblatt/amtliche-veroeffentlichungen-zu-corona/\n",
      "https://www.wienerzeitung.at/amtsblatt/suche/\n",
      "https://www.wienerzeitung.at/amtsblatt/aktuelle-ausgabe/\n",
      "https://www.wienerzeitung.at/amtsblatt/alte-ausgaben/\n",
      "https://www.auftrag.at/tenders.aspx\n",
      "https://www.wienerzeitung.at/amtsblatt/firmeninsolvenzen/\n",
      "https://www.wienerzeitung.at/amtsblatt/privatkonkurse/\n",
      "https://www.wienerzeitung.at/amtsblatt/mein-bereich/\n",
      "https://www.wienerzeitung.at/amtsblatt/jobs/\n",
      "https://www.wienerzeitung.at/amtsblatt/info/\n",
      "https://www.wienerzeitung.at/amtsblatt/lehrerstellen/\n",
      "https://www.wienerzeitung.at/dossiers/\n",
      "https://www.wienerzeitung.at/dossiers/100-jahre-verfassung/\n",
      "https://www.wienerzeitung.at/dossiers/autismus/\n",
      "https://www.wienerzeitung.at/dossiers/digitaler-humanismus/\n",
      "https://www.wienerzeitung.at/dossiers/bob-dylan/\n",
      "https://www.wienerzeitung.at/dossiers/shakespeare/\n",
      "https://www.wienerzeitung.at/dossiers/wald/\n",
      "https://www.wienerzeitung.at/dossiers/wie-wir-die-krise-meistern/\n",
      "https://www.wienerzeitung.at/dossiers/ludwig-wittgenstein/\n",
      "https://www.wienerzeitung.at/themen/\n",
      "https://www.wienerzeitung.at/themen/brexit/\n",
      "https://www.wienerzeitung.at/themen/bundestagswahl-2021/\n",
      "https://www.wienerzeitung.at/themen/comics-und-mangas/\n",
      "https://www.wienerzeitung.at/themen/energiewende/\n",
      "https://www.wienerzeitung.at/themen/pflege/\n",
      "https://www.wienerzeitung.at/themen/recht/\n",
      "https://www.wienerzeitung.at/themen/sars-cov-2/\n",
      "https://www.wienerzeitung.at/themen/vor-gericht/\n",
      "https://www.wienerzeitung.at/themen/wiener-festwochen/\n",
      "https://www.wienerzeitung.at/meinung/\n",
      "https://www.wienerzeitung.at/meinung/leitartikel/\n",
      "https://www.wienerzeitung.at/meinung/glossen/\n",
      "https://www.wienerzeitung.at/meinung/gastkommentare/\n",
      "https://www.wienerzeitung.at/meinung/kommentare/\n",
      "https://www.wienerzeitung.at/meinung/blogs/\n",
      "https://www.wienerzeitung.at/meinung/leserforum/\n",
      "https://www.wienerzeitung.at/multimedia/\n",
      "https://www.wienerzeitung.at/multimedia/fotostrecken/\n",
      "https://www.wienerzeitung.at/multimedia/videos/\n",
      "https://www.wienerzeitung.at/multimedia/podcasts/\n",
      "https://www.wienerzeitung.at/multimedia/scroll-stories/\n",
      "https://www.wienerzeitung.at/multimedia/podcast-ueber-wien/\n",
      "https://www.wienerzeitung.at/multimedia/wie-jetzt-der-demokratie-podcast/\n",
      "https://www.wienerzeitung.at/multimedia/spiele/\n",
      "https://www.wienerzeitung.at/abonnement/\n",
      "https://www.wienerzeitung.at/abonnement/samstagsabo/\n",
      "https://www.wienerzeitung.at/abonnement/abo-service/\n",
      "https://www.wienerzeitung.at/abonnement/abo-vorteile/\n",
      "https://www.wienerzeitung.at/mediasales/\n",
      "https://www.wienerzeitung.at/mediasales/tageszeitung/\n",
      "https://www.wienerzeitung.at/mediasales/amtsblatt/\n",
      "https://www.wienerzeitung.at/mediasales/wiener-journal/\n",
      "https://www.wienerzeitung.at/mediasales/magazin-die-republik/\n",
      "https://www.wienerzeitung.at/mediasales/digital/\n",
      "https://www.wienerzeitung.at/mediasales/beilagen/\n",
      "https://www.wienerzeitung.at/mediasales/spezifikationen/\n",
      "https://www.wienerzeitung.at/mediasales/ansprechpartner/\n",
      "https://www.wienerzeitung.at/magazine/\n",
      "https://www.wienerzeitung.at/magazine/wiener-journal/\n",
      "https://epaper.wienerzeitung.at/shelf.act?filter=Extra\n",
      "https://www.wienerzeitung.at/magazine/zeitreisen/\n",
      "https://www.wienerzeitung.at/verlagsbeilagen/\n",
      "https://www.wienerzeitung.at/verlagsbeilagen/die-republik-das-verwaltungsmagazin/\n",
      "https://www.wienerzeitung.at/verlagsbeilagen/weinzeit/\n",
      "https://www.wienerzeitung.at/verlagsbeilagen/digitale-republik/\n",
      "https://www.wienerzeitung.at/verlagsbeilagen/plus-beilagen/\n",
      "https://www.wienerzeitung.at/verlagsaktivitaeten/\n",
      "https://www.wienerzeitung.at/verlagsaktivitaeten/veranstaltungen/\n",
      "https://www.wienerzeitung.at/verlagsaktivitaeten/einen-klick-voraus/\n",
      "https://www.wienerzeitung.at/verlagsaktivitaeten/future-challenge/\n",
      "https://www.wienerzeitung.at/verlagsaktivitaeten/medienpartnerschaften/\n",
      "https://www.wienerzeitung.at/unternehmen/\n",
      "https://www.wienerzeitung.at/unternehmen/marken-und-produkte/\n",
      "https://www.wienerzeitung.at/unternehmen/team/\n",
      "https://www.wienerzeitung.at/unternehmen/redaktionsstatut/\n",
      "https://www.wienerzeitung.at/unternehmen/geschichte/\n",
      "https://www.wienerzeitung.at/unternehmen/akademie/\n",
      "https://www.wienerzeitung.at/unternehmen/karriere/\n",
      "https://www.wienerzeitung.at/unternehmen/apps/\n",
      "https://www.wienerzeitung.at/unternehmen/english/\n",
      "https://www.wienerzeitung.at/unternehmen/kontakt/\n",
      "https://www.wienerzeitung.at/unternehmen/cookies/\n",
      "https://www.wienerzeitung.at/unternehmen/agb/\n",
      "https://www.wienerzeitung.at/unternehmen/datenschutz/\n",
      "https://www.wienerzeitung.at/unternehmen/impressum/\n",
      "https://www.wienerzeitung.at/volltextsuche/\n",
      "https://www.wienerzeitung.at/nachrichten/politik/\n",
      "https://www.wienerzeitung.at/nachrichten/politik/oesterreich/\n",
      "http://stock.adobe.com\n",
      "http://www.facebook.com\n",
      "http://www.twitter.com\n",
      "http://www.facebook.com\n",
      "http://www.twitter.com\n",
      "https://info.gesundheitsministerium.at/\n",
      "https://www.wienerzeitung.at/nachrichten/politik/oesterreich/2101620-Infektionshort-Kindergarten.html\n",
      "http://www.facebook.com\n",
      "http://www.twitter.com\n",
      "http://www.facebook.com\n",
      "http://www.twitter.com\n",
      "https://www.wienerzeitung.at/nachrichten/politik/oesterreich/2107935-Kogler-verteidigt-Justiz-gegen-OeVP-Angriffe.html\n",
      "https://www.wienerzeitung.at/nachrichten/politik/oesterreich/2107935-Kogler-verteidigt-Justiz-gegen-OeVP-Angriffe.html\n",
      "https://www.wienerzeitung.at/nachrichten/politik/oesterreich/2107923-Keine-Ministeranklage-gegen-Bluemel-und-Schramboeck.html\n",
      "https://www.wienerzeitung.at/nachrichten/politik/oesterreich/2107923-Keine-Ministeranklage-gegen-Bluemel-und-Schramboeck.html\n",
      "https://www.wienerzeitung.at/nachrichten/politik/oesterreich/2107913-Kleiner-U-Ausschuss-zu-Corona-Beschaffung-endete.html\n",
      "https://www.wienerzeitung.at/nachrichten/politik/oesterreich/2107913-Kleiner-U-Ausschuss-zu-Corona-Beschaffung-endete.html\n",
      "https://www.wienerzeitung.at/nachrichten/politik/oesterreich/2107796-Corona-als-Stolperstein-fuer-die-Integration.html\n",
      "https://www.wienerzeitung.at/nachrichten/politik/oesterreich/2107796-Corona-als-Stolperstein-fuer-die-Integration.html\n",
      "https://epaper.wienerzeitung.at\n",
      "https://www.facebook.com/WienerZeitung\n",
      "https://twitter.com/WienerZeitung\n",
      "https://www.instagram.com/wienerzeitung\n",
      "https://www.linkedin.com/company/wiener-zeitung/\n"
     ]
    }
   ],
   "source": [
    "for link in soup.findAll('a', attrs={'href': re.compile(\"^http[s]?://\")}):\n",
    "    print(link.get('href'))"
   ]
  },
  {
   "cell_type": "markdown",
   "metadata": {},
   "source": [
    "### Which one to use: [urllib or requests?](https://stackoverflow.com/questions/2018026/what-are-the-differences-between-the-urllib-urllib2-urllib3-and-requests-modul)"
   ]
  },
  {
   "cell_type": "markdown",
   "metadata": {},
   "source": [
    "### Creating a small generic function to extract links:"
   ]
  },
  {
   "cell_type": "code",
   "execution_count": 98,
   "metadata": {},
   "outputs": [
    {
     "name": "stdout",
     "output_type": "stream",
     "text": [
      "['https://arstechnica.com', 'http://video.arstechnica.com/', 'http://arstechnica.com/?view=grid', 'http://arstechnica.com/?view=archive', 'http://arstechnica.com/?theme=light', 'http://arstechnica.com/?theme=dark', 'https://arstechnica.com/civis/ucp.php?mode=login&return_to=%2F', 'https://arstechnica.com/civis/ucp.php?mode=register', 'https://arstechnica.com/gadgets/2021/06/rtx-3070-ti-review-nvidia-has-flipped-its-turn-signal-out-of-the-gpu-fast-lane/', 'https://arstechnica.com/gadgets/2021/06/rtx-3070-ti-review-nvidia-has-flipped-its-turn-signal-out-of-the-gpu-fast-lane/', 'https://arstechnica.com/gadgets/2021/06/rtx-3070-ti-review-nvidia-has-flipped-its-turn-signal-out-of-the-gpu-fast-lane/', 'https://arstechnica.com/author/samred/', 'https://arstechnica.com/gadgets/2021/06/rtx-3070-ti-review-nvidia-has-flipped-its-turn-signal-out-of-the-gpu-fast-lane/?comments=1', 'https://arstechnica.com/tech-policy/2021/06/some-people-cant-get-fcc-subsidy-because-street-isnt-the-same-as-st/', 'https://arstechnica.com/tech-policy/2021/06/some-people-cant-get-fcc-subsidy-because-street-isnt-the-same-as-st/', 'https://arstechnica.com/tech-policy/2021/06/some-people-cant-get-fcc-subsidy-because-street-isnt-the-same-as-st/', 'https://arstechnica.com/author/jon-brodkin/', 'https://arstechnica.com/tech-policy/2021/06/some-people-cant-get-fcc-subsidy-because-street-isnt-the-same-as-st/?comments=1', 'https://arstechnica.com/gaming/2021/06/review-our-favorite-trickster-god-is-charismatic-as-ever-in-loki-premiere/', 'https://arstechnica.com/gaming/2021/06/review-our-favorite-trickster-god-is-charismatic-as-ever-in-loki-premiere/', 'https://arstechnica.com/gaming/2021/06/review-our-favorite-trickster-god-is-charismatic-as-ever-in-loki-premiere/', 'https://arstechnica.com/author/jenniferouellette/', 'https://arstechnica.com/gaming/2021/06/review-our-favorite-trickster-god-is-charismatic-as-ever-in-loki-premiere/?comments=1', 'https://arstechnica.com/gaming/2021/06/elden-ring-shows-off-first-gameplay-footage-confirmed-for-jan-2022/', 'https://arstechnica.com/gaming/2021/06/elden-ring-shows-off-first-gameplay-footage-confirmed-for-jan-2022/', 'https://arstechnica.com/gaming/2021/06/elden-ring-shows-off-first-gameplay-footage-confirmed-for-jan-2022/', 'https://arstechnica.com/author/kyle-orland/', 'https://arstechnica.com/gaming/2021/06/elden-ring-shows-off-first-gameplay-footage-confirmed-for-jan-2022/?comments=1', 'https://arstechnica.com/science/2021/06/biggest-health-insurer-plans-to-deny-er-bills-if-it-doubts-you-had-an-emergency/', 'https://arstechnica.com/science/2021/06/biggest-health-insurer-plans-to-deny-er-bills-if-it-doubts-you-had-an-emergency/', 'https://arstechnica.com/science/2021/06/biggest-health-insurer-plans-to-deny-er-bills-if-it-doubts-you-had-an-emergency/', 'https://arstechnica.com/author/beth/', 'https://arstechnica.com/science/2021/06/biggest-health-insurer-plans-to-deny-er-bills-if-it-doubts-you-had-an-emergency/?comments=1', 'https://arstechnica.com/gadgets/2021/06/ios-web-versions-of-dark-sky-weather-app-will-shut-down-in-2022/', 'https://arstechnica.com/gadgets/2021/06/ios-web-versions-of-dark-sky-weather-app-will-shut-down-in-2022/', 'https://arstechnica.com/gadgets/2021/06/ios-web-versions-of-dark-sky-weather-app-will-shut-down-in-2022/', 'https://arstechnica.com/author/samuelaxon/', 'https://arstechnica.com/gadgets/2021/06/ios-web-versions-of-dark-sky-weather-app-will-shut-down-in-2022/?comments=1', 'https://arstechnica.com/gaming/2021/06/the-anacrusis-left-4-dead-sci-fi-persistent-ai-coming-to-pc-xbox-this-fall/', 'https://arstechnica.com/gaming/2021/06/the-anacrusis-left-4-dead-sci-fi-persistent-ai-coming-to-pc-xbox-this-fall/', 'https://arstechnica.com/gaming/2021/06/the-anacrusis-left-4-dead-sci-fi-persistent-ai-coming-to-pc-xbox-this-fall/', 'https://arstechnica.com/author/samred/', 'https://arstechnica.com/gaming/2021/06/the-anacrusis-left-4-dead-sci-fi-persistent-ai-coming-to-pc-xbox-this-fall/?comments=1', 'https://arstechnica.com/gadgets/2021/06/data-thieving-hackers-strike-again-stealing-ea-source-code-and-police-data/', 'https://arstechnica.com/gadgets/2021/06/data-thieving-hackers-strike-again-stealing-ea-source-code-and-police-data/', 'https://arstechnica.com/gadgets/2021/06/data-thieving-hackers-strike-again-stealing-ea-source-code-and-police-data/', 'https://arstechnica.com/author/dan-goodin/', 'https://arstechnica.com/gadgets/2021/06/data-thieving-hackers-strike-again-stealing-ea-source-code-and-police-data/?comments=1', 'https://arstechnica.com/gaming/2021/06/gamestop-stock-falls-sharply-amid-5m-share-sales-plan-sec-investigation/', 'https://arstechnica.com/gaming/2021/06/gamestop-stock-falls-sharply-amid-5m-share-sales-plan-sec-investigation/', 'https://arstechnica.com/gaming/2021/06/gamestop-stock-falls-sharply-amid-5m-share-sales-plan-sec-investigation/', 'https://arstechnica.com/author/kyle-orland/', 'https://arstechnica.com/gaming/2021/06/gamestop-stock-falls-sharply-amid-5m-share-sales-plan-sec-investigation/?comments=1', 'https://arstechnica.com/tech-policy/2021/06/facebook-is-a-hub-of-sex-trafficking-recruitment-in-the-us-report-says/', 'https://arstechnica.com/tech-policy/2021/06/facebook-is-a-hub-of-sex-trafficking-recruitment-in-the-us-report-says/', 'https://arstechnica.com/tech-policy/2021/06/facebook-is-a-hub-of-sex-trafficking-recruitment-in-the-us-report-says/', 'https://arstechnica.com/author/tim-de-chant-2/', 'https://arstechnica.com/tech-policy/2021/06/facebook-is-a-hub-of-sex-trafficking-recruitment-in-the-us-report-says/?comments=1', 'https://arstechnica.com/gadgets/2021/06/google-to-stop-treating-eu-antitrust-remedy-as-a-promotional-opportunity/', 'https://arstechnica.com/gadgets/2021/06/google-to-stop-treating-eu-antitrust-remedy-as-a-promotional-opportunity/', 'https://arstechnica.com/gadgets/2021/06/google-to-stop-treating-eu-antitrust-remedy-as-a-promotional-opportunity/', 'https://arstechnica.com/author/ronamadeo/', 'https://arstechnica.com/gadgets/2021/06/google-to-stop-treating-eu-antitrust-remedy-as-a-promotional-opportunity/?comments=1', 'https://arstechnica.com/science/2021/06/alberta-oil-company-pull-plug-on-keystone-xl-pipeline/', 'https://arstechnica.com/science/2021/06/alberta-oil-company-pull-plug-on-keystone-xl-pipeline/', 'https://arstechnica.com/science/2021/06/alberta-oil-company-pull-plug-on-keystone-xl-pipeline/', 'https://arstechnica.com/author/financialtimes/', 'https://arstechnica.com/science/2021/06/alberta-oil-company-pull-plug-on-keystone-xl-pipeline/?comments=1', 'https://arstechnica.com/cars/2021/06/self-driving-waymo-trucks-to-haul-loads-between-houston-and-fort-worth/', 'https://arstechnica.com/cars/2021/06/self-driving-waymo-trucks-to-haul-loads-between-houston-and-fort-worth/', 'https://arstechnica.com/cars/2021/06/self-driving-waymo-trucks-to-haul-loads-between-houston-and-fort-worth/', 'https://arstechnica.com/author/jonathan-m-gitlin/', 'https://arstechnica.com/cars/2021/06/self-driving-waymo-trucks-to-haul-loads-between-houston-and-fort-worth/?comments=1', 'https://arstechnica.com/science/2021/06/legislation-requires-nasa-to-build-sls-test-article-after-initial-flights/', 'https://arstechnica.com/science/2021/06/legislation-requires-nasa-to-build-sls-test-article-after-initial-flights/', 'https://arstechnica.com/science/2021/06/legislation-requires-nasa-to-build-sls-test-article-after-initial-flights/', 'https://arstechnica.com/author/ericberger/', 'https://arstechnica.com/science/2021/06/legislation-requires-nasa-to-build-sls-test-article-after-initial-flights/?comments=1', 'https://arstechnica.com/gaming/2021/06/xboxs-game-pass-ified-future-streaming-stick-tv-app-series-x-servers/', 'https://arstechnica.com/gaming/2021/06/xboxs-game-pass-ified-future-streaming-stick-tv-app-series-x-servers/', 'https://arstechnica.com/gaming/2021/06/xboxs-game-pass-ified-future-streaming-stick-tv-app-series-x-servers/', 'https://arstechnica.com/author/samred/', 'https://arstechnica.com/gaming/2021/06/xboxs-game-pass-ified-future-streaming-stick-tv-app-series-x-servers/?comments=1', 'https://arstechnica.com/science/2021/06/electrons-in-ionosphere-catch-a-plasma-wave-to-produce-brightest-auroras/', 'https://arstechnica.com/science/2021/06/electrons-in-ionosphere-catch-a-plasma-wave-to-produce-brightest-auroras/', 'https://arstechnica.com/science/2021/06/electrons-in-ionosphere-catch-a-plasma-wave-to-produce-brightest-auroras/', 'https://arstechnica.com/author/jenniferouellette/', 'https://arstechnica.com/science/2021/06/electrons-in-ionosphere-catch-a-plasma-wave-to-produce-brightest-auroras/?comments=1', 'https://arstechnica.com/gadgets/2021/06/these-macos-monterey-features-wont-work-on-intel-macs/', 'https://arstechnica.com/gadgets/2021/06/these-macos-monterey-features-wont-work-on-intel-macs/', 'https://arstechnica.com/gadgets/2021/06/these-macos-monterey-features-wont-work-on-intel-macs/', 'https://arstechnica.com/author/samuelaxon/', 'https://arstechnica.com/gadgets/2021/06/these-macos-monterey-features-wont-work-on-intel-macs/?comments=1', 'https://arstechnica.com/gadgets/2021/06/nameless-malware-collects-1-2tb-of-sensitive-data-and-stashes-it-online/', 'https://arstechnica.com/gadgets/2021/06/nameless-malware-collects-1-2tb-of-sensitive-data-and-stashes-it-online/', 'https://arstechnica.com/gadgets/2021/06/nameless-malware-collects-1-2tb-of-sensitive-data-and-stashes-it-online/', 'https://arstechnica.com/author/dan-goodin/', 'https://arstechnica.com/gadgets/2021/06/nameless-malware-collects-1-2tb-of-sensitive-data-and-stashes-it-online/?comments=1', 'https://arstechnica.com/cars/2021/06/volkswagen-plans-to-offer-subscriptions-for-autonomous-driving-extra-ev-range/', 'https://arstechnica.com/cars/2021/06/volkswagen-plans-to-offer-subscriptions-for-autonomous-driving-extra-ev-range/', 'https://arstechnica.com/cars/2021/06/volkswagen-plans-to-offer-subscriptions-for-autonomous-driving-extra-ev-range/', 'https://arstechnica.com/author/tim-de-chant-2/', 'https://arstechnica.com/cars/2021/06/volkswagen-plans-to-offer-subscriptions-for-autonomous-driving-extra-ev-range/?comments=1', 'https://arstechnica.com/gaming/2021/06/dont-look-now-but-gamestop-stock-is-approaching-record-highs-again/', 'https://arstechnica.com/gaming/2021/06/dont-look-now-but-gamestop-stock-is-approaching-record-highs-again/', 'https://arstechnica.com/gaming/2021/06/dont-look-now-but-gamestop-stock-is-approaching-record-highs-again/', 'https://arstechnica.com/author/kyle-orland/', 'https://arstechnica.com/gaming/2021/06/dont-look-now-but-gamestop-stock-is-approaching-record-highs-again/?comments=1', 'https://www.facebook.com/arstechnica', 'https://twitter.com/arstechnica', 'https://www.youtube.com/user/arstechnicavideos', 'https://www.instagram.com/arstechnica/', 'https://video.arstechnica.com', 'https://arstechnica.com/gaming/2021/05/don-bellisario-talks-to-ars-about-the-unsolved-mysteries-of-quantum-leap/', 'https://arstechnica.com/gaming/2021/05/don-bellisario-talks-to-ars-about-the-unsolved-mysteries-of-quantum-leap/', 'https://arstechnica.com/gaming/2021/05/don-bellisario-talks-to-ars-about-the-unsolved-mysteries-of-quantum-leap/', 'https://arstechnica.com/gaming/2021/06/apple-tv-offers-first-look-at-ambitious-sci-fi-drama-invasion-in-teaser/', 'https://arstechnica.com/gaming/2021/06/apple-tv-offers-first-look-at-ambitious-sci-fi-drama-invasion-in-teaser/', 'https://arstechnica.com/gaming/2021/06/apple-tv-offers-first-look-at-ambitious-sci-fi-drama-invasion-in-teaser/', 'https://arstechnica.com/author/jenniferouellette/', 'https://arstechnica.com/gaming/2021/06/apple-tv-offers-first-look-at-ambitious-sci-fi-drama-invasion-in-teaser/?comments=1', 'https://arstechnica.com/tech-policy/2021/06/record-labels-sue-another-isp-demanding-mass-disconnections-of-internet-users/', 'https://arstechnica.com/tech-policy/2021/06/record-labels-sue-another-isp-demanding-mass-disconnections-of-internet-users/', 'https://arstechnica.com/tech-policy/2021/06/record-labels-sue-another-isp-demanding-mass-disconnections-of-internet-users/', 'https://arstechnica.com/author/jon-brodkin/', 'https://arstechnica.com/tech-policy/2021/06/record-labels-sue-another-isp-demanding-mass-disconnections-of-internet-users/?comments=1', 'https://arstechnica.com/science/2021/06/hospital-suspends-178-healthcare-workers-for-failing-to-get-covid-vaccine/', 'https://arstechnica.com/science/2021/06/hospital-suspends-178-healthcare-workers-for-failing-to-get-covid-vaccine/', 'https://arstechnica.com/science/2021/06/hospital-suspends-178-healthcare-workers-for-failing-to-get-covid-vaccine/', 'https://arstechnica.com/author/beth/', 'https://arstechnica.com/science/2021/06/hospital-suspends-178-healthcare-workers-for-failing-to-get-covid-vaccine/?comments=1', 'https://arstechnica.com/tech-policy/2021/06/bitcoin-now-legal-tender-in-el-salvador-first-nation-to-adopt-cryptocurrency/', 'https://arstechnica.com/tech-policy/2021/06/bitcoin-now-legal-tender-in-el-salvador-first-nation-to-adopt-cryptocurrency/', 'https://arstechnica.com/tech-policy/2021/06/bitcoin-now-legal-tender-in-el-salvador-first-nation-to-adopt-cryptocurrency/', 'https://arstechnica.com/author/tim-de-chant-2/', 'https://arstechnica.com/tech-policy/2021/06/bitcoin-now-legal-tender-in-el-salvador-first-nation-to-adopt-cryptocurrency/?comments=1', 'https://arstechnica.com/gadgets/2021/06/google-kills-its-augmented-reality-measure-app/', 'https://arstechnica.com/gadgets/2021/06/google-kills-its-augmented-reality-measure-app/', 'https://arstechnica.com/gadgets/2021/06/google-kills-its-augmented-reality-measure-app/', 'https://arstechnica.com/author/ronamadeo/', 'https://arstechnica.com/gadgets/2021/06/google-kills-its-augmented-reality-measure-app/?comments=1', 'https://arstechnica.com/gaming/2021/06/battlefield-2042-will-host-128-player-combat-on-pc-next-gen-consoles-oct-22/', 'https://arstechnica.com/gaming/2021/06/battlefield-2042-will-host-128-player-combat-on-pc-next-gen-consoles-oct-22/', 'https://arstechnica.com/gaming/2021/06/battlefield-2042-will-host-128-player-combat-on-pc-next-gen-consoles-oct-22/', 'https://arstechnica.com/author/samred/', 'https://arstechnica.com/gaming/2021/06/battlefield-2042-will-host-128-player-combat-on-pc-next-gen-consoles-oct-22/?comments=1', 'https://arstechnica.com/cars/2021/06/lordstown-motors-warns-its-electric-vehicle-business-may-fail/', 'https://arstechnica.com/cars/2021/06/lordstown-motors-warns-its-electric-vehicle-business-may-fail/', 'https://arstechnica.com/cars/2021/06/lordstown-motors-warns-its-electric-vehicle-business-may-fail/', 'https://arstechnica.com/author/financialtimes/', 'https://arstechnica.com/cars/2021/06/lordstown-motors-warns-its-electric-vehicle-business-may-fail/?comments=1', 'https://arstechnica.com/gadgets/2021/06/hackers-can-mess-with-https-connections-by-sending-data-to-your-email-server/', 'https://arstechnica.com/gadgets/2021/06/hackers-can-mess-with-https-connections-by-sending-data-to-your-email-server/', 'https://arstechnica.com/gadgets/2021/06/hackers-can-mess-with-https-connections-by-sending-data-to-your-email-server/', 'https://arstechnica.com/author/dan-goodin/', 'https://arstechnica.com/gadgets/2021/06/hackers-can-mess-with-https-connections-by-sending-data-to-your-email-server/?comments=1', 'https://arstechnica.com/science/2021/06/a-disgraceful-decision-researchers-blast-fda-for-approving-alzheimers-drug/', 'https://arstechnica.com/science/2021/06/a-disgraceful-decision-researchers-blast-fda-for-approving-alzheimers-drug/', 'https://arstechnica.com/science/2021/06/a-disgraceful-decision-researchers-blast-fda-for-approving-alzheimers-drug/', 'https://arstechnica.com/author/beth/', 'https://arstechnica.com/science/2021/06/a-disgraceful-decision-researchers-blast-fda-for-approving-alzheimers-drug/?comments=1', 'https://arstechnica.com/tech-policy/2021/06/spurred-by-clarence-thomas-ohio-ag-wants-google-declared-a-public-utility/', 'https://arstechnica.com/tech-policy/2021/06/spurred-by-clarence-thomas-ohio-ag-wants-google-declared-a-public-utility/', 'https://arstechnica.com/tech-policy/2021/06/spurred-by-clarence-thomas-ohio-ag-wants-google-declared-a-public-utility/', 'https://arstechnica.com/author/jon-brodkin/', 'https://arstechnica.com/tech-policy/2021/06/spurred-by-clarence-thomas-ohio-ag-wants-google-declared-a-public-utility/?comments=1', 'https://arstechnica.com/gadgets/2021/06/fast-ly-broke-the-internet-for-an-hour-this-morning/', 'https://arstechnica.com/gadgets/2021/06/fast-ly-broke-the-internet-for-an-hour-this-morning/', 'https://arstechnica.com/gadgets/2021/06/fast-ly-broke-the-internet-for-an-hour-this-morning/', 'https://arstechnica.com/author/jimsalter/', 'https://arstechnica.com/gadgets/2021/06/fast-ly-broke-the-internet-for-an-hour-this-morning/?comments=1', 'https://arstechnica.com/staff/2021/06/amazon-deal-anker-noise-canceling-headphones/', 'https://arstechnica.com/staff/2021/06/amazon-deal-anker-noise-canceling-headphones/', 'https://arstechnica.com/staff/2021/06/amazon-deal-anker-noise-canceling-headphones/', 'https://arstechnica.com/author/ars-staff/', 'https://arstechnica.com/staff/2021/06/amazon-deal-anker-noise-canceling-headphones/?comments=1', 'https://arstechnica.com/gadgets/2021/06/here-are-some-macos-monterey-features-the-wwdc-keynote-didnt-mention/', 'https://arstechnica.com/gadgets/2021/06/here-are-some-macos-monterey-features-the-wwdc-keynote-didnt-mention/', 'https://arstechnica.com/gadgets/2021/06/here-are-some-macos-monterey-features-the-wwdc-keynote-didnt-mention/', 'https://arstechnica.com/author/samuelaxon/', 'https://arstechnica.com/gadgets/2021/06/here-are-some-macos-monterey-features-the-wwdc-keynote-didnt-mention/?comments=1', 'https://arstechnica.com/gaming/2021/06/apple-tvs-summer-preview-includes-tantalizing-glimpses-of-foundation-series/', 'https://arstechnica.com/gaming/2021/06/apple-tvs-summer-preview-includes-tantalizing-glimpses-of-foundation-series/', 'https://arstechnica.com/gaming/2021/06/apple-tvs-summer-preview-includes-tantalizing-glimpses-of-foundation-series/', 'https://arstechnica.com/author/jenniferouellette/', 'https://arstechnica.com/gaming/2021/06/apple-tvs-summer-preview-includes-tantalizing-glimpses-of-foundation-series/?comments=1', 'https://arstechnica.com/science/2021/06/will-sir-richard-come-out-of-the-blue-and-beat-bezos-into-space/', 'https://arstechnica.com/science/2021/06/will-sir-richard-come-out-of-the-blue-and-beat-bezos-into-space/', 'https://arstechnica.com/science/2021/06/will-sir-richard-come-out-of-the-blue-and-beat-bezos-into-space/', 'https://arstechnica.com/author/ericberger/', 'https://arstechnica.com/science/2021/06/will-sir-richard-come-out-of-the-blue-and-beat-bezos-into-space/?comments=1', 'https://arstechnica.com/tech-policy/2021/06/fbi-sold-phones-to-organized-crime-and-read-27-million-encrypted-messages/', 'https://arstechnica.com/tech-policy/2021/06/fbi-sold-phones-to-organized-crime-and-read-27-million-encrypted-messages/', 'https://arstechnica.com/tech-policy/2021/06/fbi-sold-phones-to-organized-crime-and-read-27-million-encrypted-messages/', 'https://arstechnica.com/author/jon-brodkin/', 'https://arstechnica.com/tech-policy/2021/06/fbi-sold-phones-to-organized-crime-and-read-27-million-encrypted-messages/?comments=1', 'http://arstechnica.com/?view=mobile', 'http://condenast.com/', 'https://www.condenast.com/user-agreement/', 'https://www.condenast.com/privacy-policy/', 'https://www.condenast.com/privacy-policy/#california', 'https://www.condenast.com/online-behavioral-advertising-oba-and-how-to-opt-out-of-oba/#clickheretoreadmoreaboutonlinebehavioraladvertising(oba)']\n"
     ]
    }
   ],
   "source": [
    "def getLinks(url):\n",
    "    raw_page = requests.get(url)\n",
    "    html_page = raw_page.text\n",
    "    #html_page = urllib.request.urlopen(url)\n",
    "    soup = bs(html_page)\n",
    "    links = []\n",
    "    for link in soup.findAll('a', attrs={'href': re.compile(\"^http[s]?://\")}):\n",
    "        links.append(link.get('href'))\n",
    "    return links\n",
    "\n",
    "print(getLinks(\"https://arstechnica.com\"))"
   ]
  },
  {
   "cell_type": "markdown",
   "metadata": {},
   "source": [
    "article### Extracting specific information"
   ]
  },
  {
   "cell_type": "code",
   "execution_count": 99,
   "metadata": {},
   "outputs": [],
   "source": [
    "url3 = 'https://thegreenestworkforce.ca/index.php/en/schools/' \n",
    "content = requests.get(url3).text\n",
    "soup = bs(content,'lxml')"
   ]
  },
  {
   "cell_type": "code",
   "execution_count": 100,
   "metadata": {},
   "outputs": [
    {
     "data": {
      "text/plain": [
       "'\\n\\n\\nA complete list of Canadian Universities and Colleges - The Greenest Workforce : The Greenest Workforce\\n\\n\\n\\n\\n\\n\\n\\n\\n\\n\\n\\n\\n\\n\\n\\n\\n\\n\\n\\nif(typeof stLight != \"undefined\" ){\\n\\tstLight.options({\\n\\t\\tpublisher: \"df7e08d0-fa61-487f-be1c-0db70716d1aa\",\\n\\t\\tsnapsets:false,\\n\\t\\tservicePopup:true,\\n\\t\\tonhover: false\\n\\t\\t}); \\n\\t//stLight.options({snapsets:false});\\n}\\n\\n\\n\\n\\n\\n\\n\\n\\n\\n\\n\\n\\n\\n\\n{\"@context\":\"https://schema.org\",\"@graph\":[{\"@type\":\"WebSite\",\"@id\":\"http://thegreenestworkforce.ca/index.php/en/home/#website\",\"url\":\"http://thegreenestworkforce.ca/index.php/en/home/\",\"name\":\"The Greenest Workforce\",\"description\":\"\",\"potentialAction\":[{\"@type\":\"SearchAction\",\"target\":\"http://thegreenestworkforce.ca/index.php/en/home/?s={search_term_string}\",\"query-input\":\"required name=search_term_string\"}],\"inLanguage\":\"en-CA\"},{\"@type\":\"WebPage\",\"@id\":\"https://thegreenestworkforce.ca/index.php/en/schools/#webpage\",\"url\":\"https://thegreenestworkforce.ca/index.php/en/schools/\",\"name\":\"A complete list of Canadian Universities and Colleges - The Greenest Workforce\",\"isPartOf\":{\"@id\":\"http://thegreenestworkforce.ca/index.php/en/home/#website\"},\"datePublished\":\"2015-01-15T02:24:10+00:00\",\"dateModified\":\"2015-01-15T02:26:55+00:00\",\"breadcrumb\":{\"@id\":\"https://thegreenestworkforce.ca/index.php/en/schools/#breadcrumb\"},\"inLanguage\":\"en-CA\",\"potentialAction\":[{\"@type\":\"ReadAction\",\"target\":[\"https://thegreenestworkforce.ca/index.php/en/schools/\"]}]},{\"@type\":\"BreadcrumbList\",\"@id\":\"https://thegreenestworkforce.ca/index.php/en/schools/#breadcrumb\",\"itemListElement\":[{\"@type\":\"ListItem\",\"position\":1,\"item\":{\"@type\":\"WebPage\",\"@id\":\"https://thegreenestworkforce.ca/index.php/en/home/\",\"url\":\"https://thegreenestworkforce.ca/index.php/en/home/\",\"name\":\"Home\"}},{\"@type\":\"ListItem\",\"position\":2,\"item\":{\"@type\":\"WebPage\",\"@id\":\"https://thegreenestworkforce.ca/index.php/en/\",\"url\":\"https://thegreenestworkforce.ca/index.php/en/\",\"name\":\"en\"}},{\"@type\":\"ListItem\",\"position\":3,\"item\":{\"@id\":\"https://thegreenestworkforce.ca/index.php/en/schools/#webpage\"}}]}]}\\n\\n\\n\\n\\n\\n\\t\\t\\twindow._wpemojiSettings = {\"baseUrl\":\"https:\\\\/\\\\/s.w.org\\\\/images\\\\/core\\\\/emoji\\\\/13.0.1\\\\/72x72\\\\/\",\"ext\":\".png\",\"svgUrl\":\"https:\\\\/\\\\/s.w.org\\\\/images\\\\/core\\\\/emoji\\\\/13.0.1\\\\/svg\\\\/\",\"svgExt\":\".svg\",\"source\":{\"concatemoji\":\"https:\\\\/\\\\/thegreenestworkforce.ca\\\\/wp-includes\\\\/js\\\\/wp-emoji-release.min.js?ver=5.7.2\"}};\\n\\t\\t\\t!function(e,a,t){var n,r,o,i=a.createElement(\"canvas\"),p=i.getContext&&i.getContext(\"2d\");function s(e,t){var a=String.fromCharCode;p.clearRect(0,0,i.width,i.height),p.fillText(a.apply(this,e),0,0);e=i.toDataURL();return p.clearRect(0,0,i.width,i.height),p.fillText(a.apply(this,t),0,0),e===i.toDataURL()}function c(e){var t=a.createElement(\"script\");t.src=e,t.defer=t.type=\"text/javascript\",a.getElementsByTagName(\"head\")[0].appendChild(t)}for(o=Array(\"flag\",\"emoji\"),t.supports={everything:!0,everythingExceptFlag:!0},r=0;r<o.length;r++)t.supports[o[r]]=function(e){if(!p||!p.fillText)return!1;switch(p.textBaseline=\"top\",p.font=\"600 32px Arial\",e){case\"flag\":return s([127987,65039,8205,9895,65039],[127987,65039,8203,9895,65039])?!1:!s([55356,56826,55356,56819],[55356,56826,8203,55356,56819])&&!s([55356,57332,56128,56423,56128,56418,56128,56421,56128,56430,56128,56423,56128,56447],[55356,57332,8203,56128,56423,8203,56128,56418,8203,56128,56421,8203,56128,56430,8203,56128,56423,8203,56128,56447]);case\"emoji\":return!s([55357,56424,8205,55356,57212],[55357,56424,8203,55356,57212])}return!1}(o[r]),t.supports.everything=t.supports.everything&&t.supports[o[r]],\"flag\"!==o[r]&&(t.supports.everythingExceptFlag=t.supports.everythingExceptFlag&&t.supports[o[r]]);t.supports.everythingExceptFlag=t.supports.everythingExceptFlag&&!t.supports.flag,t.DOMReady=!1,t.readyCallback=function(){t.DOMReady=!0},t.supports.everything||(n=function(){t.readyCallback()},a.addEventListener?(a.addEventListener(\"DOMContentLoaded\",n,!1),e.addEventListener(\"load\",n,!1)):(e.attachEvent(\"onload\",n),a.attachEvent(\"onreadystatechange\",function(){\"complete\"===a.readyState&&t.readyC'"
      ]
     },
     "execution_count": 100,
     "metadata": {},
     "output_type": "execute_result"
    }
   ],
   "source": [
    "soup.get_text()[0:4000]"
   ]
  },
  {
   "cell_type": "markdown",
   "metadata": {},
   "source": [
    "#### Inspect page source code"
   ]
  },
  {
   "cell_type": "code",
   "execution_count": 101,
   "metadata": {},
   "outputs": [],
   "source": [
    "My_table = soup.find('article',{'id':'post-17896'})"
   ]
  },
  {
   "cell_type": "code",
   "execution_count": 102,
   "metadata": {},
   "outputs": [
    {
     "data": {
      "text/plain": [
       "['\\n',\n",
       " <h2>Universities</h2>,\n",
       " '\\n',\n",
       " <h3>British Columbia</h3>,\n",
       " '\\n',\n",
       " <p><a href=\"http://www.viu.ca/\" target=\"_blank\" title=\"Vancouver Island University\">Vancouver Island University</a><br/>\n",
       " <a href=\"http://www.royalroads.ca/\" target=\"_blank\" title=\"Royal Roads University\">Royal Roads University</a><br/>\n",
       " <a href=\"http://www.sfu.ca/\" target=\"_blank\" title=\"Simon Fraser University\">Simon Fraser University</a><br/>\n",
       " <a href=\"https://www.twu.ca/\" target=\"_blank\" title=\"Trinity Western University\">Trinity Western University</a><br/>\n",
       " <a href=\"http://www.tru.ca/\" target=\"_blank\" title=\"Thompson River University\">Thompson River University</a><br/>\n",
       " <a href=\"http://www.ufv.ca/\" target=\"_blank\" title=\"University of the Fraser Valley\">University of the Fraser Valley</a><br/>\n",
       " <a href=\"http://www.ubc.ca/\" target=\"_blank\" title=\"University of British Columbia\">University of British Columbia</a><br/>\n",
       " <a href=\"http://www.unbc.ca/\" target=\"_blank\" title=\"University of Northern British Columbia\">University of Northern British Columbia</a><br/>\n",
       " <a href=\"http://www.uvic.ca/\" target=\"_blank\" title=\"University of Victoria\">University of Victoria</a></p>,\n",
       " '\\n',\n",
       " <h3>Saskatchewan</h3>,\n",
       " '\\n',\n",
       " <p><a href=\"http://www.fnuniv.ca/\" target=\"_blank\" title=\"First Nations University of Canada\">First Nations University of Canada</a><br/>\n",
       " <a href=\"http://www.uregina.ca/\" target=\"_blank\" title=\"University of Regina\">University of Regina</a><br/>\n",
       " <a href=\"http://www.usask.ca/\" target=\"_blank\" title=\"University of Saskatchewan\">University of Saskatchewan</a></p>]"
      ]
     },
     "execution_count": 102,
     "metadata": {},
     "output_type": "execute_result"
    }
   ],
   "source": [
    "My_table.contents[0:10]"
   ]
  },
  {
   "cell_type": "code",
   "execution_count": 103,
   "metadata": {},
   "outputs": [
    {
     "data": {
      "text/plain": [
       "[<a href=\"http://www.viu.ca/\" target=\"_blank\" title=\"Vancouver Island University\">Vancouver Island University</a>,\n",
       " <a href=\"http://www.royalroads.ca/\" target=\"_blank\" title=\"Royal Roads University\">Royal Roads University</a>,\n",
       " <a href=\"http://www.sfu.ca/\" target=\"_blank\" title=\"Simon Fraser University\">Simon Fraser University</a>,\n",
       " <a href=\"https://www.twu.ca/\" target=\"_blank\" title=\"Trinity Western University\">Trinity Western University</a>,\n",
       " <a href=\"http://www.tru.ca/\" target=\"_blank\" title=\"Thompson River University\">Thompson River University</a>,\n",
       " <a href=\"http://www.ufv.ca/\" target=\"_blank\" title=\"University of the Fraser Valley\">University of the Fraser Valley</a>,\n",
       " <a href=\"http://www.ubc.ca/\" target=\"_blank\" title=\"University of British Columbia\">University of British Columbia</a>,\n",
       " <a href=\"http://www.unbc.ca/\" target=\"_blank\" title=\"University of Northern British Columbia\">University of Northern British Columbia</a>,\n",
       " <a href=\"http://www.uvic.ca/\" target=\"_blank\" title=\"University of Victoria\">University of Victoria</a>,\n",
       " <a href=\"http://www.fnuniv.ca/\" target=\"_blank\" title=\"First Nations University of Canada\">First Nations University of Canada</a>]"
      ]
     },
     "execution_count": 103,
     "metadata": {},
     "output_type": "execute_result"
    }
   ],
   "source": [
    "links = My_table.findAll('a')\n",
    "links[0:10]"
   ]
  },
  {
   "cell_type": "code",
   "execution_count": 104,
   "metadata": {},
   "outputs": [
    {
     "name": "stdout",
     "output_type": "stream",
     "text": [
      "['http://www.viu.ca/', 'http://www.royalroads.ca/', 'http://www.sfu.ca/', 'https://www.twu.ca/', 'http://www.tru.ca/', 'http://www.ufv.ca/', 'http://www.ubc.ca/', 'http://www.unbc.ca/', 'http://www.uvic.ca/', 'http://www.fnuniv.ca/', 'http://www.uregina.ca/', 'http://www.usask.ca/', 'http://www.athabascau.ca/', 'http://www.augustana.ualberta.ca/', 'http://concordia.ab.ca/', 'http://www.kingsu.ca/', 'http://www.ualberta.ca/', 'http://www.ucalgary.ca/', 'http://www.uleth.ca/', 'http://www.macewan.ca/wcm/index.htm', 'http://www.mtroyal.ca/', 'http://www.brandonu.ca/', 'http://umanitoba.ca/', 'http://www.uwinnipeg.ca/', 'http://www.cmu.ca/', 'http://umanitoba.ca/stpauls/', 'http://ustboniface.ca/', 'http://www.algomau.ca/', 'http://brescia.uwo.ca/', 'http://www.brocku.ca/', 'http://carleton.ca/', 'http://www.dominicanu.ca/', 'http://www.huronuc.on.ca/Home', 'http://www.kings.uwo.ca/', 'https://www.lakeheadu.ca/', 'http://laurentian.ca/', 'http://www.mcmaster.ca/', 'http://www.nipissingu.ca/', 'http://www.ocadu.ca/', 'http://www.queensu.ca/', 'http://www.redeemer.ca/', 'http://www.rmc.ca/', 'http://www.ryerson.ca/index.html', 'http://ustpaul.ca/', 'http://www.sju.ca/', 'http://www.trentu.ca/', 'http://www.uoguelph.ca/', 'http://www.uoit.ca/', 'http://www.uottawa.ca/en', 'http://stmikes.utoronto.ca/', 'http://www.usudbury.ca/', 'http://www.utoronto.ca/', 'http://www.trinity.utoronto.ca/', 'https://uwaterloo.ca/', 'http://www.uwo.ca/', 'http://www.uwindsor.ca/', 'http://www.vicu.utoronto.ca/home', 'https://www.wlu.ca/', 'http://futurestudents.yorku.ca/', 'http://www.ubishops.ca/index.html', 'https://www.concordia.ca/', 'http://www.etsmtl.ca/', 'http://www.etsmtl.ca/', 'http://www.polymtl.ca/', 'http://www.hec.ca/en/', 'http://www.inrs.ca/english/homepage', 'http://www.mcgill.ca/', 'http://www.teluq.ca/', 'http://www.umontreal.ca/english/', 'http://www.usherbrooke.ca/', 'http://www.uQuébec.ca/reseau/', 'http://www.uqac.ca/', 'http://www.uqam.ca/', 'http://www.uqar.ca/english/', 'http://www.uqtr.ca/', 'http://www.uqat.ca/en/', 'http://uqo.ca/', 'http://www2.ulaval.ca/en/home.html', 'http://home.upei.ca/', 'http://www2.acadiau.ca/', 'http://www.cbu.ca/', 'http://www.dal.ca/', 'http://www.msvu.ca/en/home/default.aspx', 'http://nscad.ca/en/home/default.aspx', 'http://www.smu.ca/', 'http://www.stfx.ca/', 'https://www.usainteanne.ca/english', 'http://www.ukings.ca/', 'http://www.mta.ca/Prospective/Default.aspx', 'http://w3.stu.ca/stu/default.aspx', 'http://www.umoncton.ca/', 'http://www.unb.ca/', 'http://www.mun.ca/', 'http://www.bcit.ca/', 'http://www.okanagan.bc.ca/', 'http://www.ashtoncollege.com/', 'https://www.brightoncollege.org.uk/', 'http://www.columbiacollege.ca/', 'http://camosun.ca/', 'http://ccbst.ca/', 'http://www.capilanou.ca/', 'http://www.educacentre.com/en/', 'http://www.cnc.bc.ca/', 'http://www.cotr.bc.ca/', 'https://www.douglascollege.ca/', 'http://www.etoncollege.com/', 'http://www.jibc.ca/', 'http://www.kpu.ca/', 'http://www.langara.bc.ca/', 'http://www.necvancouver.org/', 'http://www.nvit.ca/', 'http://www.nic.bc.ca/', 'http://www.nlc.bc.ca/', 'http://www.nwcc.bc.ca/', 'http://www.okanagan.bc.ca/', 'http://selkirk.ca/', 'http://sprottshaw.com/', 'http://www.vcc.ca/', 'http://www.vanarts.com/', 'http://eal.wtc.mb.ca/', 'http://public.assiniboine.net/default.aspx', 'https://www.ucn.ca/default.aspx', 'http://www.rrc.mb.ca/', 'http://ustboniface.ca/etp', 'http://www.mitt.ca/wp/', 'http://www.nbccd.ca/en/home/default.aspx', 'http://www.nbcc.ca/', 'http://mcft.ca/en', 'http://nbbi.ca/', 'http://www.cna.nl.ca/', 'http://www.mi.mun.ca/', 'http://www.cns.nf.ca/', 'https://www.uoguelph.ca/alfred/fr/bienvenue', 'http://www.algonquincollege.com/', 'http://www.collegeboreal.ca/accueil', 'http://www.cambriancollege.ca/Pages/Home.aspx', 'http://www.canadorecollege.ca/', 'http://www.centennialcollege.ca/', 'https://www.collegelacite.ca/', 'http://www.conestogac.on.ca/', 'http://www.confederationc.on.ca/programs', 'http://www.durhamcollege.ca/', 'http://www.fanshawec.ca/', 'http://flemingcollege.ca/', 'http://www.georgebrown.ca/', 'http://www.georgiancollege.ca/', 'http://www.uoguelph.ca/campus/regional/', 'https://www.lambton.on.ca/', 'http://www.loyalistcollege.com/', 'http://michener.ca/', 'http://www.mohawkcollege.ca/', 'http://www.niagaracollege.ca/content/', 'http://www.northernc.on.ca/', 'http://www.stclaircollege.ca/', 'http://www.stlawrencecollege.ca/', 'http://www.saultcollege.ca/', 'http://www.senecacollege.ca/', 'https://www.sheridancollege.ca/', 'http://www.auroracollege.nt.ca/_live/pages/wpPages/home.aspx', 'http://www.academyoflearning.com/', 'http://www.ccg-gcc.gc.ca/eng/CCG/College/welcome', 'http://www.gaeliccollege.edu/', 'http://www.kbca.ca/page.aspx?site=kbca', 'http://www.nscc.ca/', 'http://www.arcticcollege.ca/', 'http://www.hollandcollege.com/', 'http://www.mccpei.com/', 'http://www.collegeacadieipe.ca/greenest/index.php/fr/', 'http://www.cegepat.qc.ca/accueil', 'http://www.collegeahuntsic.qc.ca/', 'http://www.claurendeau.qc.ca/accueil', 'http://www.cegep-baie-comeau.qc.ca/accueil', 'http://www.cegepba.qc.ca/', 'http://bdeb.qc.ca/', 'http://admin.crc-sher.qc.ca/', 'http://www.cegep-chicoutimi.qc.ca/', 'http://www.dawsoncollege.qc.ca/', 'http://www.cdrummond.qc.ca/', 'http://www.college-em.qc.ca/college-cegep-edouard-montpetit-longueuil-ecole-nationale-daerotechnique', 'http://www.cegepgarneau.ca/en/', 'http://www.cegepgim.ca/', 'http://www.cgodin.qc.ca/accueil', 'http://www.cegepgranby.qc.ca/accueil', 'http://www.cegep-heritage.qc.ca/', 'http://www.johnabbott.qc.ca/', 'http://www.cegepjonquiere.ca/cegep/', 'http://www.cegeplapocatiere.qc.ca/MyScriptorWeb/scripto.asp?resultat=533169', 'http://www.cegep-lanaudiere.qc.ca/', 'http://cll.qc.ca/', 'http://www.cegeplimoilou.ca/', 'http://www.clg.qc.ca/', 'http://www.cmaisonneuve.qc.ca/cegep-montreal-dec-preuniversitaire-technique-accueil', 'http://www.collegemv.qc.ca/', 'http://www.cegep-matane.qc.ca/', 'http://www.cmontmorency.qc.ca/', 'http://www.cegepoutaouais.qc.ca/', 'http://www.cegep-rimouski.qc.ca/', 'http://www.crosemont.qc.ca/accueil', 'http://www.cegepstfe.ca/', 'http://www.cegepsth.qc.ca/', 'http://www.cstjean.qc.ca/accueil', 'http://www.cstj.qc.ca/', 'http://www.cegepsl.qc.ca/', 'http://www.cegep-ste-foy.qc.ca/csf4/index.php', 'http://www.cegep-sept-iles.qc.ca/', 'http://www.collegeshawinigan.ca/', 'http://cegepsherbrooke.qc.ca/', 'http://www.cegepst.qc.ca/', 'http://www.cegepth.qc.ca/accueil', 'http://www.cegeptr.qc.ca/', 'https://www.colval.qc.ca/', 'http://www.vaniercollege.qc.ca/', 'http://www.cgpvicto.qc.ca/formation-collegiale/index.aspx', 'http://www.cvm.qc.ca/Pages/index.aspx', 'http://bart.ca/', 'http://www.brebeuf.qc.ca/', 'http://www.clafleche.qc.ca/', 'http://www.collegelasalle.com/', 'http://www.marianopolis.edu/', 'http://www.cimf.ca/', 'https://www.merici.ca/', 'http://www.osullivan.edu/en/', 'http://www.osullivan-Québec.qc.ca/', 'http://www.stanislas.qc.ca/', 'http://www.emvi.qc.ca/', 'http://www.nationalcircusschool.ca/en/home', 'http://www.seminaire-sherbrooke.qc.ca/', 'http://www.trebas.com/', 'http://bethany.sk.ca/', 'http://www.briercrest.ca/', 'http://www.ctrc.sk.ca/', 'http://www.horizon.edu/home', 'http://www.collegemathieu.sk.ca/', 'https://www.cumberlandcollege.sk.ca/', 'http://www.estoncollege.ca/', 'http://www.greatplainscollege.ca/', 'http://nipawin.org/', 'http://trainnorth.ca/', 'http://www.nwrc.sk.ca/', 'http://www.parklandcollege.sk.ca/', 'http://www.siit.sk.ca/', 'http://saskpolytech.ca/', 'http://www.southeastcollege.org/', 'http://www.stpeterscollege.ca/', 'http://www.wabcwesternacademy.com/', 'http://www.yukoncollege.yk.ca/']\n"
     ]
    }
   ],
   "source": [
    "colleges = []\n",
    "for link in links:\n",
    "    colleges.append(link.get('href'))\n",
    "    \n",
    "print(colleges)"
   ]
  },
  {
   "cell_type": "code",
   "execution_count": 105,
   "metadata": {},
   "outputs": [
    {
     "data": {
      "text/html": [
       "<div>\n",
       "<style scoped>\n",
       "    .dataframe tbody tr th:only-of-type {\n",
       "        vertical-align: middle;\n",
       "    }\n",
       "\n",
       "    .dataframe tbody tr th {\n",
       "        vertical-align: top;\n",
       "    }\n",
       "\n",
       "    .dataframe thead th {\n",
       "        text-align: right;\n",
       "    }\n",
       "</style>\n",
       "<table border=\"1\" class=\"dataframe\">\n",
       "  <thead>\n",
       "    <tr style=\"text-align: right;\">\n",
       "      <th></th>\n",
       "      <th>University</th>\n",
       "    </tr>\n",
       "  </thead>\n",
       "  <tbody>\n",
       "    <tr>\n",
       "      <th>0</th>\n",
       "      <td>http://www.viu.ca/</td>\n",
       "    </tr>\n",
       "    <tr>\n",
       "      <th>1</th>\n",
       "      <td>http://www.royalroads.ca/</td>\n",
       "    </tr>\n",
       "    <tr>\n",
       "      <th>2</th>\n",
       "      <td>http://www.sfu.ca/</td>\n",
       "    </tr>\n",
       "    <tr>\n",
       "      <th>3</th>\n",
       "      <td>https://www.twu.ca/</td>\n",
       "    </tr>\n",
       "    <tr>\n",
       "      <th>4</th>\n",
       "      <td>http://www.tru.ca/</td>\n",
       "    </tr>\n",
       "  </tbody>\n",
       "</table>\n",
       "</div>"
      ],
      "text/plain": [
       "                  University\n",
       "0         http://www.viu.ca/\n",
       "1  http://www.royalroads.ca/\n",
       "2         http://www.sfu.ca/\n",
       "3        https://www.twu.ca/\n",
       "4         http://www.tru.ca/"
      ]
     },
     "execution_count": 105,
     "metadata": {},
     "output_type": "execute_result"
    }
   ],
   "source": [
    "df = pd.DataFrame()\n",
    "df['University'] = colleges\n",
    "df.head()"
   ]
  },
  {
   "cell_type": "markdown",
   "metadata": {},
   "source": [
    "### Requests with Parameters\n",
    "\n",
    "[Example](https://towardsdatascience.com/web-scraping-101-in-python-35f8653b1c97) of using [parameters with *requests*](https://docs.python-requests.org/en/master/user/quickstart/) on [IMDB](https://www.imdb.com/search/title/?count=100&groups=top_1000&sort=user_rating):"
   ]
  },
  {
   "cell_type": "markdown",
   "metadata": {},
   "source": [
    "After taking a look at the IMDB webpage, we’ll set out to extract (all highlighted in the above screenshot of the page):\n",
    "\n",
    "+ Movie title\n",
    "+ Release year\n",
    "+ Runtime\n",
    "+ Audience rating\n",
    "+ Genre\n",
    "+ IMDB rating\n",
    "+ Number of votes\n",
    "+ Box office earnings\n",
    "+ Director\n",
    "+ Primary actors"
   ]
  },
  {
   "cell_type": "code",
   "execution_count": 106,
   "metadata": {},
   "outputs": [],
   "source": [
    "url4 = 'https://www.imdb.com/search/title/?count=100&groups=top_1000&sort=user_rating'\n",
    "\n",
    "def get_page_contents(url):\n",
    "    page = requests.get(url, headers={\"Accept-Language\": \"en-US\"})\n",
    "    return bs(page.text, \"html.parser\")\n",
    "\n",
    "soup = get_page_contents(url4)"
   ]
  },
  {
   "cell_type": "markdown",
   "metadata": {},
   "source": [
    "Extracting text: Movie titles and release year\n",
    "\n",
    "Since we’ve already located the HTML tag containing each movie card, we can get a list of all distinct movies and their corresponding HTML by:"
   ]
  },
  {
   "cell_type": "code",
   "execution_count": 107,
   "metadata": {},
   "outputs": [
    {
     "data": {
      "text/plain": [
       "[<h3 class=\"lister-item-header\">\n",
       " <span class=\"lister-item-index unbold text-primary\">1.</span>\n",
       " <a href=\"/title/tt0111161/\">The Shawshank Redemption</a>\n",
       " <span class=\"lister-item-year text-muted unbold\">(1994)</span>\n",
       " </h3>,\n",
       " <h3 class=\"lister-item-header\">\n",
       " <span class=\"lister-item-index unbold text-primary\">2.</span>\n",
       " <a href=\"/title/tt0068646/\">The Godfather</a>\n",
       " <span class=\"lister-item-year text-muted unbold\">(1972)</span>\n",
       " </h3>,\n",
       " <h3 class=\"lister-item-header\">\n",
       " <span class=\"lister-item-index unbold text-primary\">3.</span>\n",
       " <a href=\"/title/tt10189514/\">Soorarai Pottru</a>\n",
       " <span class=\"lister-item-year text-muted unbold\">(2020)</span>\n",
       " </h3>,\n",
       " <h3 class=\"lister-item-header\">\n",
       " <span class=\"lister-item-index unbold text-primary\">4.</span>\n",
       " <a href=\"/title/tt0468569/\">The Dark Knight</a>\n",
       " <span class=\"lister-item-year text-muted unbold\">(2008)</span>\n",
       " </h3>,\n",
       " <h3 class=\"lister-item-header\">\n",
       " <span class=\"lister-item-index unbold text-primary\">5.</span>\n",
       " <a href=\"/title/tt0071562/\">The Godfather: Part II</a>\n",
       " <span class=\"lister-item-year text-muted unbold\">(1974)</span>\n",
       " </h3>]"
      ]
     },
     "execution_count": 107,
     "metadata": {},
     "output_type": "execute_result"
    }
   ],
   "source": [
    "movies = soup.findAll('h3', class_='lister-item-header')\n",
    "movies[0:5]"
   ]
  },
  {
   "cell_type": "markdown",
   "metadata": {},
   "source": [
    "The findAll method creates a list where each entry contains the HTML that’s captured within the h3 tag and list-item-header class.  \n",
    "By taking a deeper look at the first movies HTML and see that the movie title can be found under the first a tag.\n",
    "\n",
    "To capture this attribute we can loop through all movies and either call findAll and grab the first element of the list, or we can use the find method which automatically grabs the first tag it finds. Thus, we can construct a list of all movie titles (with a little help from list comprehensions for efficiency) through:"
   ]
  },
  {
   "cell_type": "code",
   "execution_count": 108,
   "metadata": {},
   "outputs": [
    {
     "data": {
      "text/plain": [
       "['The Shawshank Redemption',\n",
       " 'The Godfather',\n",
       " 'Soorarai Pottru',\n",
       " 'The Dark Knight',\n",
       " 'The Godfather: Part II',\n",
       " '12 Angry Men',\n",
       " 'The Lord of the Rings: The Return of the King',\n",
       " 'Pulp Fiction',\n",
       " \"Schindler's List\",\n",
       " 'Inception']"
      ]
     },
     "execution_count": 108,
     "metadata": {},
     "output_type": "execute_result"
    }
   ],
   "source": [
    "titles = [movie.find('a').text for movie in movies]\n",
    "titles[0:10]"
   ]
  },
  {
   "cell_type": "markdown",
   "metadata": {},
   "source": [
    "Release years can be found under the tag span and class lister-item-year text-muted unbold. To grab these, we can follow a similar approach as before:"
   ]
  },
  {
   "cell_type": "code",
   "execution_count": 109,
   "metadata": {},
   "outputs": [
    {
     "data": {
      "text/plain": [
       "['(1994)',\n",
       " '(1972)',\n",
       " '(2020)',\n",
       " '(2008)',\n",
       " '(1974)',\n",
       " '(1957)',\n",
       " '(2003)',\n",
       " '(1994)',\n",
       " '(1993)',\n",
       " '(2010)']"
      ]
     },
     "execution_count": 109,
     "metadata": {},
     "output_type": "execute_result"
    }
   ],
   "source": [
    "release = [movie.find('span', class_='lister-item-year text-muted unbold').text for movie in movies]\n",
    "release[0:10]"
   ]
  },
  {
   "cell_type": "markdown",
   "metadata": {},
   "source": [
    "Extracting Numerical Values:\n",
    "\n",
    "In the case of IMDB ratings, number of votes and box office earnings we can see that while these may be available as string values, can also grab the actual numerical values from the data-value attribute within each respective tag.\n",
    "\n",
    "Here’s the IMDB rating of The Godfather:  \n",
    "\\<div class=\"inline-block ratings-imdb-rating\" name=\"ir\" data-value=\"9.2\">"
   ]
  },
  {
   "cell_type": "code",
   "execution_count": 26,
   "metadata": {},
   "outputs": [
    {
     "data": {
      "text/plain": [
       "'9.3'"
      ]
     },
     "execution_count": 26,
     "metadata": {},
     "output_type": "execute_result"
    }
   ],
   "source": [
    "soup.find('div', class_='inline-block ratings-imdb-rating')['data-value']"
   ]
  },
  {
   "cell_type": "markdown",
   "metadata": {},
   "source": [
    "In the case of number of votes and earnings we don’t have a class attribute to filter for. Here are the number of votes and estimated box office earnings:"
   ]
  },
  {
   "cell_type": "code",
   "execution_count": 27,
   "metadata": {},
   "outputs": [
    {
     "name": "stdout",
     "output_type": "stream",
     "text": [
      "['2404057', '28,341,469', '1664187', '134,966,411', '82317', '2364103', '534,858,444', '1156483', '57,300,000', '708658', '4,360,000', '1677032', '377,845,905', '1868122', '107,928,762', '1239852', '96,898,818', '2121603', '292,576,195', '1898194', '37,030,102', '1697864', '315,544,750', '1857924', '330,252,182', '702227', '6,100,000', '26531', '1516385', '342,551,365', '1715841', '171,479,930', '1046031', '46,836,394', '1181890', '290,475,067', '935674', '112,000,000', '616592', '53,367,844', '1566414', '188,020,017', '710849', '7,563,397', '673653', '10,055,859', '1266411', '216,540,909', '1177221', '136,801,374', '638535', '57,598,247', '1481893', '100,125,643', '1302569', '130,742,922', '1253912', '322,740,140', '45502', '25607', '536,364', '322211', '269,061', '413454', '30747', '742248', '13,092,000', '780749', '13,182,281', '1219542', '53,089,891', '1216552', '132,384,315', '751501', '32,572,577', '1370694', '187,705,427', '1051520', '6,719,864', '1010052', '23,341,568', '1059327', '19,501,238', '964172', '422,783,777', '1013540', '204,843,350', '237500', '11,990,401', '244203', '1085727', '210,609,762', '308464', '5,321,508', '617266', '32,000,000', '453396', '36,764,313', '531589', '1,024,560', '223364', '163,245', '171634', '19,181', '65649', '69856', '1,661,096', '1008333', '335,451,311', '35818', '31201', '211080', '5,017,246', '164698', '12,391,761', '403791', '190,241,310', '884465', '858,373,000', '883973', '678,815,482', '409205', '209,726,015', '1393773', '162,805,434', '1549516', '448,139,099', '357283', '6,532,908', '175527', '1,223,869', '1022180', '223,808,164', '366269', '11,286,112', '528750', '707,481', '1147875', '25,544,867', '353916', '2,375,308', '319223', '5,321,508', '899682', '248,159,971', '920520', '44,017,374', '618718', '83,471,511', '805418', '78,900,000', '36909', '458444', '275,902', '112359', '8,175,000', '182583', '205908', '207439', '288,475', '38258', '898,575', '465216', '159,227,644', '32595', '36136', '293911', '687,185', '225823', '7,098,492', '156196', '6,857,096', '34732', '67320', '81184', '1302351', '120,540,719', '930111', '34,400,301', '714903', '33,225,499', '796618', '30,328,156']\n"
     ]
    }
   ],
   "source": [
    "votes_earnings = soup.findAll('span', {'name':'nv'})\n",
    "print([ve['data-value'] for ve in votes_earnings])"
   ]
  },
  {
   "cell_type": "code",
   "execution_count": 28,
   "metadata": {},
   "outputs": [
    {
     "name": "stdout",
     "output_type": "stream",
     "text": [
      "['2404057', '1664187', '82317', '534,858,444', '57,300,000']\n",
      "['28,341,469', '134,966,411', '2364103', '1156483', '708658']\n"
     ]
    }
   ],
   "source": [
    "votes = []\n",
    "earnings = []\n",
    "idx = 0\n",
    "while idx < len(votes_earnings)-1:\n",
    "    votes.append(votes_earnings[idx]['data-value'])\n",
    "    earnings.append(votes_earnings[idx+1]['data-value'])\n",
    "    idx+=2\n",
    "print(votes[0:5])\n",
    "print(earnings[0:5])"
   ]
  },
  {
   "cell_type": "markdown",
   "metadata": {},
   "source": [
    "Nested Values\n",
    "\n",
    "In the case where the data we need is located within multiple levels of generic tags, we’ll need to dig into this nested structure to extract what we need.\n",
    "\n",
    "In the case of the movie directors and actors we’ll need to do just that. From inspecting the HTML we see that the director information is located within an initial p tag and thereafter an a tag — both without class attributes making it necessary to unnest the data. We’ll do this by calling find and findAll repeatedly.\n",
    "\n",
    "Since the director is the 1st a tag, we can extract this information through:"
   ]
  },
  {
   "cell_type": "code",
   "execution_count": 29,
   "metadata": {},
   "outputs": [
    {
     "name": "stdout",
     "output_type": "stream",
     "text": [
      "---\n",
      "<a href=\"/name/nm0001104/\">Frank Darabont</a>\n",
      "Frank Darabont\n",
      "<a href=\"/name/nm0000209/\">Tim Robbins</a>\n",
      "Tim Robbins\n",
      "<a href=\"/name/nm0000151/\">Morgan Freeman</a>\n",
      "Morgan Freeman\n",
      "<a href=\"/name/nm0348409/\">Bob Gunton</a>\n",
      "Bob Gunton\n",
      "<a href=\"/name/nm0006669/\">William Sadler</a>\n",
      "William Sadler\n",
      "---\n",
      "<a href=\"/name/nm0000338/\">Francis Ford Coppola</a>\n",
      "Francis Ford Coppola\n",
      "<a href=\"/name/nm0000008/\">Marlon Brando</a>\n",
      "Marlon Brando\n",
      "<a href=\"/name/nm0000199/\">Al Pacino</a>\n",
      "Al Pacino\n",
      "<a href=\"/name/nm0001001/\">James Caan</a>\n",
      "James Caan\n",
      "<a href=\"/name/nm0000473/\">Diane Keaton</a>\n",
      "Diane Keaton\n"
     ]
    }
   ],
   "source": [
    "for l1 in soup.findAll('p')[0:10]:\n",
    "    if l1.find('a'):\n",
    "        print('---')\n",
    "        for l2 in l1.findAll('a'):\n",
    "            print(l2)\n",
    "            print(l2.text)"
   ]
  },
  {
   "cell_type": "code",
   "execution_count": 30,
   "metadata": {},
   "outputs": [
    {
     "data": {
      "text/plain": [
       "['Frank Darabont',\n",
       " 'Tim Robbins',\n",
       " 'Morgan Freeman',\n",
       " 'Bob Gunton',\n",
       " 'William Sadler']"
      ]
     },
     "execution_count": 30,
     "metadata": {},
     "output_type": "execute_result"
    }
   ],
   "source": [
    "actors = [actor.text for actor in soup.findAll('p')[2].findAll('a')]\n",
    "actors"
   ]
  },
  {
   "cell_type": "markdown",
   "metadata": {},
   "source": [
    "#### Creating functions to automate information scraping on IMDB:"
   ]
  },
  {
   "cell_type": "code",
   "execution_count": 31,
   "metadata": {},
   "outputs": [],
   "source": [
    "def numeric_value(movie, tag, class_=None, order=None):\n",
    "    if order:\n",
    "        if len(movie.findAll(tag, class_)) > 1:\n",
    "            to_extract = movie.findAll(tag, class_)[order]['data-value']\n",
    "        else:\n",
    "            to_extract = None\n",
    "    else:\n",
    "        to_extract = movie.find(tag, class_)['data-value']\n",
    "\n",
    "    return to_extract\n",
    "\n",
    "\n",
    "def text_value(movie, tag, class_=None):\n",
    "    if movie.find(tag, class_):\n",
    "        return movie.find(tag, class_).text\n",
    "    else:\n",
    "        return\n",
    "\n",
    "\n",
    "def nested_text_value(movie, tag_1, class_1, tag_2, class_2, order=None):\n",
    "    if not order:\n",
    "        return movie.find(tag_1, class_1).find(tag_2, class_2).text\n",
    "    else:\n",
    "        return [val.text for val in movie.find(tag_1, class_1).findAll(tag_2, class_2)[order]]\n",
    "\n",
    "\n",
    "def extract_attribute(soup, tag_1, class_1='', tag_2='', class_2='',\n",
    "                      text_attribute=True, order=None, nested=False):\n",
    "    movies = soup.findAll('div', class_='lister-item-content')\n",
    "    data_list = []\n",
    "    for movie in movies:\n",
    "        if text_attribute:\n",
    "            if nested:\n",
    "                data_list.append(nested_text_value(movie, tag_1, class_1, tag_2, class_2, order))\n",
    "            else:\n",
    "                data_list.append(text_value(movie, tag_1, class_1))\n",
    "        else:\n",
    "            data_list.append(numeric_value(movie, tag_1, class_1, order))\n",
    "\n",
    "    return data_list"
   ]
  },
  {
   "cell_type": "markdown",
   "metadata": {},
   "source": [
    "#### Creating a Dataframe with the information"
   ]
  },
  {
   "cell_type": "code",
   "execution_count": 32,
   "metadata": {},
   "outputs": [
    {
     "data": {
      "text/html": [
       "<div>\n",
       "<style scoped>\n",
       "    .dataframe tbody tr th:only-of-type {\n",
       "        vertical-align: middle;\n",
       "    }\n",
       "\n",
       "    .dataframe tbody tr th {\n",
       "        vertical-align: top;\n",
       "    }\n",
       "\n",
       "    .dataframe thead th {\n",
       "        text-align: right;\n",
       "    }\n",
       "</style>\n",
       "<table border=\"1\" class=\"dataframe\">\n",
       "  <thead>\n",
       "    <tr style=\"text-align: right;\">\n",
       "      <th></th>\n",
       "      <th>Title</th>\n",
       "      <th>Relase</th>\n",
       "      <th>Audience Rating</th>\n",
       "      <th>Runtime</th>\n",
       "      <th>Genre</th>\n",
       "      <th>IMDB Rating</th>\n",
       "      <th>Votes</th>\n",
       "      <th>Box Office Earnings</th>\n",
       "      <th>Director</th>\n",
       "      <th>Actors</th>\n",
       "    </tr>\n",
       "  </thead>\n",
       "  <tbody>\n",
       "    <tr>\n",
       "      <th>0</th>\n",
       "      <td>The Shawshank Redemption</td>\n",
       "      <td>(1994)</td>\n",
       "      <td>R</td>\n",
       "      <td>142 min</td>\n",
       "      <td>\\nDrama</td>\n",
       "      <td>\\n\\n9.3\\n</td>\n",
       "      <td>2,404,057</td>\n",
       "      <td>2,404,057</td>\n",
       "      <td>Frank Darabont</td>\n",
       "      <td>[Tim Robbins, Morgan Freeman, Bob Gunton, Will...</td>\n",
       "    </tr>\n",
       "    <tr>\n",
       "      <th>1</th>\n",
       "      <td>The Godfather</td>\n",
       "      <td>(1972)</td>\n",
       "      <td>R</td>\n",
       "      <td>175 min</td>\n",
       "      <td>\\nCrime, Drama</td>\n",
       "      <td>\\n\\n9.2\\n</td>\n",
       "      <td>1,664,187</td>\n",
       "      <td>1,664,187</td>\n",
       "      <td>Francis Ford Coppola</td>\n",
       "      <td>[Marlon Brando, Al Pacino, James Caan, Diane K...</td>\n",
       "    </tr>\n",
       "    <tr>\n",
       "      <th>2</th>\n",
       "      <td>Soorarai Pottru</td>\n",
       "      <td>(2020)</td>\n",
       "      <td>TV-MA</td>\n",
       "      <td>153 min</td>\n",
       "      <td>\\nDrama</td>\n",
       "      <td>\\n\\n9.1\\n</td>\n",
       "      <td>82,317</td>\n",
       "      <td>82,317</td>\n",
       "      <td>Sudha Kongara</td>\n",
       "      <td>[Madhavan, Suriya, Paresh Rawal, Aparna Balamu...</td>\n",
       "    </tr>\n",
       "    <tr>\n",
       "      <th>3</th>\n",
       "      <td>The Dark Knight</td>\n",
       "      <td>(2008)</td>\n",
       "      <td>PG-13</td>\n",
       "      <td>152 min</td>\n",
       "      <td>\\nAction, Crime, Drama</td>\n",
       "      <td>\\n\\n9.0\\n</td>\n",
       "      <td>2,364,103</td>\n",
       "      <td>2,364,103</td>\n",
       "      <td>Christopher Nolan</td>\n",
       "      <td>[Christian Bale, Heath Ledger, Aaron Eckhart, ...</td>\n",
       "    </tr>\n",
       "    <tr>\n",
       "      <th>4</th>\n",
       "      <td>The Godfather: Part II</td>\n",
       "      <td>(1974)</td>\n",
       "      <td>R</td>\n",
       "      <td>202 min</td>\n",
       "      <td>\\nCrime, Drama</td>\n",
       "      <td>\\n\\n9.0\\n</td>\n",
       "      <td>1,156,483</td>\n",
       "      <td>1,156,483</td>\n",
       "      <td>Francis Ford Coppola</td>\n",
       "      <td>[Al Pacino, Robert De Niro, Robert Duvall, Dia...</td>\n",
       "    </tr>\n",
       "  </tbody>\n",
       "</table>\n",
       "</div>"
      ],
      "text/plain": [
       "                      Title  Relase Audience Rating  Runtime  \\\n",
       "0  The Shawshank Redemption  (1994)               R  142 min   \n",
       "1             The Godfather  (1972)               R  175 min   \n",
       "2           Soorarai Pottru  (2020)           TV-MA  153 min   \n",
       "3           The Dark Knight  (2008)           PG-13  152 min   \n",
       "4    The Godfather: Part II  (1974)               R  202 min   \n",
       "\n",
       "                                Genre IMDB Rating      Votes  \\\n",
       "0                 \\nDrama               \\n\\n9.3\\n  2,404,057   \n",
       "1          \\nCrime, Drama               \\n\\n9.2\\n  1,664,187   \n",
       "2                 \\nDrama               \\n\\n9.1\\n     82,317   \n",
       "3  \\nAction, Crime, Drama               \\n\\n9.0\\n  2,364,103   \n",
       "4          \\nCrime, Drama               \\n\\n9.0\\n  1,156,483   \n",
       "\n",
       "  Box Office Earnings              Director  \\\n",
       "0           2,404,057        Frank Darabont   \n",
       "1           1,664,187  Francis Ford Coppola   \n",
       "2              82,317         Sudha Kongara   \n",
       "3           2,364,103     Christopher Nolan   \n",
       "4           1,156,483  Francis Ford Coppola   \n",
       "\n",
       "                                              Actors  \n",
       "0  [Tim Robbins, Morgan Freeman, Bob Gunton, Will...  \n",
       "1  [Marlon Brando, Al Pacino, James Caan, Diane K...  \n",
       "2  [Madhavan, Suriya, Paresh Rawal, Aparna Balamu...  \n",
       "3  [Christian Bale, Heath Ledger, Aaron Eckhart, ...  \n",
       "4  [Al Pacino, Robert De Niro, Robert Duvall, Dia...  "
      ]
     },
     "execution_count": 32,
     "metadata": {},
     "output_type": "execute_result"
    }
   ],
   "source": [
    "titles = extract_attribute(soup, 'a')\n",
    "release = extract_attribute(soup, 'span', 'lister-item-year text-muted unbold')\n",
    "audience_rating = extract_attribute(soup, 'span', 'certificate')\n",
    "runtime = extract_attribute(soup, 'span', 'runtime')\n",
    "genre = extract_attribute(soup, 'span', 'genre')\n",
    "imdb_rating = extract_attribute(soup, 'div', 'inline-block ratings-imdb-rating', False)\n",
    "votes = extract_attribute(soup, 'span' , {'name' : 'nv'}, False, 0)\n",
    "earnings = extract_attribute(soup, 'span' , {'name' : 'nv'}, False, 1)\n",
    "directors = extract_attribute(soup, 'p', '', 'a', '', True, 0, True)\n",
    "actors = extract_attribute(soup, 'p', '', 'a', '', True, slice(1, 5, None), True)\n",
    "\n",
    "\n",
    "df_dict = {'Title': titles, 'Relase': release, 'Audience Rating': audience_rating,\n",
    "           'Runtime': runtime, 'Genre': genre, 'IMDB Rating': imdb_rating,\n",
    "           'Votes': votes, 'Box Office Earnings': earnings, 'Director': directors,\n",
    "           'Actors': actors}\n",
    "\n",
    "df = pd.DataFrame(df_dict)\n",
    "df.head()"
   ]
  },
  {
   "cell_type": "markdown",
   "metadata": {},
   "source": [
    "### Manually creating a Dataframe and starting analysis"
   ]
  },
  {
   "cell_type": "code",
   "execution_count": 33,
   "metadata": {},
   "outputs": [],
   "source": [
    "url5 = \"http://www.hubertiming.com/results/2017GPTR10K\"\n",
    "html = urllib.request.urlopen(url5)\n",
    "soup = bs(html, 'lxml')"
   ]
  },
  {
   "cell_type": "code",
   "execution_count": 34,
   "metadata": {},
   "outputs": [
    {
     "name": "stdout",
     "output_type": "stream",
     "text": [
      "<title>Race results for the 2017 Intel Great Place to Run \\ Urban Clash Games!</title>\n"
     ]
    }
   ],
   "source": [
    "# Get the title\n",
    "title = soup.title\n",
    "print(title)"
   ]
  },
  {
   "cell_type": "code",
   "execution_count": 35,
   "metadata": {},
   "outputs": [
    {
     "data": {
      "text/plain": [
       "'\\n\\n\\n\\n\\n\\n\\nRace results for the 2017 Intel Great Place to Run \\\\ Urban Clash Games!\\n\\n\\n\\n\\n\\n\\n\\n\\n\\n\\n\\n\\n\\n\\n\\n\\n\\n\\n\\n\\n\\n 2017 Intel Great Place to Run 10K \\\\ Urban Clash Games\\n Hillsboro Stadium, Hillsboro, OR \\n June 2nd,'"
      ]
     },
     "execution_count": 35,
     "metadata": {},
     "output_type": "execute_result"
    }
   ],
   "source": [
    "# Print out the text\n",
    "text = soup.get_text()\n",
    "text[0:200]"
   ]
  },
  {
   "cell_type": "code",
   "execution_count": 36,
   "metadata": {},
   "outputs": [
    {
     "data": {
      "text/plain": [
       "[<a href=\"mailto:timing@hubertiming.com\">timing@hubertiming.com</a>,\n",
       " <a href=\"https://www.hubertiming.com/\">Huber Timing Home</a>,\n",
       " <a class=\"btn btn-primary btn-lg\" href=\"/results/2017GPTR\" role=\"button\" style=\"margin: 0px 0px 5px 5px\"><i aria-hidden=\"true\" class=\"fa fa-user\"></i> 5K Individual</a>,\n",
       " <a class=\"btn btn-primary btn-lg\" href=\"/results/team/2017GPTR\" role=\"button\" style=\"margin: 0px 0px 5px 5px\"><i aria-hidden=\"true\" class=\"fa fa-users\"></i> 5K Team</a>,\n",
       " <a class=\"btn btn-primary btn-lg\" href=\"/results/team/2017GPTR10K\" role=\"button\" style=\"margin: 0px 0px 5px 5px\"><i aria-hidden=\"true\" class=\"fa fa-users\"></i> 10K Team</a>,\n",
       " <a class=\"btn btn-primary btn-lg\" href=\"/results/summary/2017GPTR10K\" role=\"button\" style=\"margin: 0px 0px 5px 5px\"><i class=\"fa fa-stream\"></i> Summary</a>,\n",
       " <a id=\"individual\" name=\"individual\"></a>,\n",
       " <a data-url=\"/results/2017GPTR10K\" href=\"#tabs-1\" id=\"rootTab\" style=\"font-size: 18px\">10K Results</a>,\n",
       " <a href=\"https://www.hubertiming.com/\"><img height=\"65\" src=\"https://www.hubertiming.com//sites/all/themes/hubertiming/images/clockWithFinishSign_small.png\" width=\"50\"/>Huber Timing</a>,\n",
       " <a href=\"https://facebook.com/hubertiming/\"><img src=\"https://www.hubertiming.com/results/FB-f-Logo__blue_50.png\"/></a>,\n",
       " <a class=\"small\" id=\"bestFeatureEver\" style=\"color:#007bff\">Dark Mode</a>]"
      ]
     },
     "execution_count": 36,
     "metadata": {},
     "output_type": "execute_result"
    }
   ],
   "source": [
    "soup.find_all('a')"
   ]
  },
  {
   "cell_type": "code",
   "execution_count": 37,
   "metadata": {},
   "outputs": [
    {
     "name": "stdout",
     "output_type": "stream",
     "text": [
      "mailto:timing@hubertiming.com\n",
      "https://www.hubertiming.com/\n",
      "/results/2017GPTR\n",
      "/results/team/2017GPTR\n",
      "/results/team/2017GPTR10K\n",
      "/results/summary/2017GPTR10K\n",
      "None\n",
      "#tabs-1\n",
      "https://www.hubertiming.com/\n",
      "https://facebook.com/hubertiming/\n",
      "None\n"
     ]
    }
   ],
   "source": [
    "all_links = soup.find_all(\"a\")\n",
    "for link in all_links:\n",
    "    print(link.get(\"href\"))"
   ]
  },
  {
   "cell_type": "code",
   "execution_count": 38,
   "metadata": {},
   "outputs": [
    {
     "name": "stdout",
     "output_type": "stream",
     "text": [
      "[<tr colspan=\"2\">\n",
      "<b>10K:</b>\n",
      "</tr>, <tr>\n",
      "<td>Finishers:</td>\n",
      "<td>577</td>\n",
      "</tr>, <tr>\n",
      "<td>Male:</td>\n",
      "<td>414</td>\n",
      "</tr>, <tr>\n",
      "<td>Female:</td>\n",
      "<td>163</td>\n",
      "</tr>, <tr class=\"header\">\n",
      "<th>Place</th>\n",
      "<th>Bib</th>\n",
      "<th>Name</th>\n",
      "<th>Gender</th>\n",
      "<th>City</th>\n",
      "<th>State</th>\n",
      "<th>Chip Time</th>\n",
      "<th>Chip Pace</th>\n",
      "<th>Gun Time</th>\n",
      "<th>Team</th>\n",
      "</tr>, <tr data-bib=\"814\">\n",
      "<td>1</td>\n",
      "<td>814</td>\n",
      "<td>\n",
      "\n",
      "                    JARED WILSON\n",
      "\n",
      "                </td>\n",
      "<td>M</td>\n",
      "<td>TIGARD</td>\n",
      "<td>OR</td>\n",
      "<td>36:21</td>\n",
      "<td>5:51</td>\n",
      "<td>36:24</td>\n",
      "<td></td>\n",
      "</tr>, <tr data-bib=\"573\">\n",
      "<td>2</td>\n",
      "<td>573</td>\n",
      "<td>\n",
      "\n",
      "                    NATHAN A SUSTERSIC\n",
      "\n",
      "                </td>\n",
      "<td>M</td>\n",
      "<td>PORTLAND</td>\n",
      "<td>OR</td>\n",
      "<td>36:42</td>\n",
      "<td>5:55</td>\n",
      "<td>36:45</td>\n",
      "<td>\n",
      "<img class=\"lazy teamThumbs\" data-src=\"/teamLogoThumbnail/logo?teamName=INTEL%20TEAM%20F&amp;raceId=1251&amp;state=OR\"/>\n",
      "                            INTEL TEAM F\n",
      "                        </td>\n",
      "</tr>, <tr data-bib=\"687\">\n",
      "<td>3</td>\n",
      "<td>687</td>\n",
      "<td>\n",
      "\n",
      "                    FRANCISCO MAYA\n",
      "\n",
      "                </td>\n",
      "<td>M</td>\n",
      "<td>PORTLAND</td>\n",
      "<td>OR</td>\n",
      "<td>37:44</td>\n",
      "<td>6:05</td>\n",
      "<td>37:48</td>\n",
      "<td></td>\n",
      "</tr>]\n"
     ]
    }
   ],
   "source": [
    "# Print the first 8 rows for sanity check\n",
    "rows = soup.find_all('tr')\n",
    "print(rows[:8])"
   ]
  },
  {
   "cell_type": "code",
   "execution_count": 39,
   "metadata": {},
   "outputs": [
    {
     "name": "stdout",
     "output_type": "stream",
     "text": [
      "[<td>577</td>, <td>443</td>, <td>\n",
      "\n",
      "                    LIBBY B MITCHELL\n",
      "\n",
      "                </td>, <td>F</td>, <td>HILLSBORO</td>, <td>OR</td>, <td>1:41:18</td>, <td>16:20</td>, <td>1:42:10</td>, <td></td>]\n"
     ]
    },
    {
     "data": {
      "text/plain": [
       "bs4.element.ResultSet"
      ]
     },
     "execution_count": 39,
     "metadata": {},
     "output_type": "execute_result"
    }
   ],
   "source": [
    "for row in rows:\n",
    "    row_td = row.find_all('td')\n",
    "print(row_td)\n",
    "type(row_td)"
   ]
  },
  {
   "cell_type": "code",
   "execution_count": 41,
   "metadata": {},
   "outputs": [
    {
     "name": "stdout",
     "output_type": "stream",
     "text": [
      "[577, 443, \n",
      "\n",
      "                    LIBBY B MITCHELL\n",
      "\n",
      "                , F, HILLSBORO, OR, 1:41:18, 16:20, 1:42:10, ]\n"
     ]
    }
   ],
   "source": [
    "str_cells = str(row_td)\n",
    "cleantext = bs(str_cells, \"lxml\").get_text()\n",
    "print(cleantext)"
   ]
  },
  {
   "cell_type": "markdown",
   "metadata": {},
   "source": [
    "#### Now processing the whole page"
   ]
  },
  {
   "cell_type": "code",
   "execution_count": 42,
   "metadata": {},
   "outputs": [
    {
     "name": "stdout",
     "output_type": "stream",
     "text": [
      "[577, 443, \n",
      "\n",
      "                    LIBBY B MITCHELL\n",
      "\n",
      "                , F, HILLSBORO, OR, 1:41:18, 16:20, 1:42:10, ]\n"
     ]
    },
    {
     "data": {
      "text/plain": [
       "str"
      ]
     },
     "execution_count": 42,
     "metadata": {},
     "output_type": "execute_result"
    }
   ],
   "source": [
    "list_rows = []\n",
    "for row in rows:\n",
    "    cells = row.find_all('td')\n",
    "    str_cells = str(cells)\n",
    "    clean = re.compile('<.*?>')\n",
    "    clean2 = (re.sub(clean, '',str_cells))\n",
    "    list_rows.append(clean2)\n",
    "print(clean2)\n",
    "type(clean2)"
   ]
  },
  {
   "cell_type": "code",
   "execution_count": 43,
   "metadata": {},
   "outputs": [
    {
     "data": {
      "text/html": [
       "<div>\n",
       "<style scoped>\n",
       "    .dataframe tbody tr th:only-of-type {\n",
       "        vertical-align: middle;\n",
       "    }\n",
       "\n",
       "    .dataframe tbody tr th {\n",
       "        vertical-align: top;\n",
       "    }\n",
       "\n",
       "    .dataframe thead th {\n",
       "        text-align: right;\n",
       "    }\n",
       "</style>\n",
       "<table border=\"1\" class=\"dataframe\">\n",
       "  <thead>\n",
       "    <tr style=\"text-align: right;\">\n",
       "      <th></th>\n",
       "      <th>raw</th>\n",
       "    </tr>\n",
       "  </thead>\n",
       "  <tbody>\n",
       "    <tr>\n",
       "      <th>0</th>\n",
       "      <td>[]</td>\n",
       "    </tr>\n",
       "    <tr>\n",
       "      <th>1</th>\n",
       "      <td>[Finishers:, 577]</td>\n",
       "    </tr>\n",
       "    <tr>\n",
       "      <th>2</th>\n",
       "      <td>[Male:, 414]</td>\n",
       "    </tr>\n",
       "    <tr>\n",
       "      <th>3</th>\n",
       "      <td>[Female:, 163]</td>\n",
       "    </tr>\n",
       "    <tr>\n",
       "      <th>4</th>\n",
       "      <td>[]</td>\n",
       "    </tr>\n",
       "    <tr>\n",
       "      <th>5</th>\n",
       "      <td>[1, 814, \\r\\n\\r\\n                    JARED WIL...</td>\n",
       "    </tr>\n",
       "    <tr>\n",
       "      <th>6</th>\n",
       "      <td>[2, 573, \\r\\n\\r\\n                    NATHAN A ...</td>\n",
       "    </tr>\n",
       "    <tr>\n",
       "      <th>7</th>\n",
       "      <td>[3, 687, \\r\\n\\r\\n                    FRANCISCO...</td>\n",
       "    </tr>\n",
       "    <tr>\n",
       "      <th>8</th>\n",
       "      <td>[4, 623, \\r\\n\\r\\n                    PAUL MORR...</td>\n",
       "    </tr>\n",
       "    <tr>\n",
       "      <th>9</th>\n",
       "      <td>[5, 569, \\r\\n\\r\\n                    DEREK G O...</td>\n",
       "    </tr>\n",
       "  </tbody>\n",
       "</table>\n",
       "</div>"
      ],
      "text/plain": [
       "                                                 raw\n",
       "0                                                 []\n",
       "1                                  [Finishers:, 577]\n",
       "2                                       [Male:, 414]\n",
       "3                                     [Female:, 163]\n",
       "4                                                 []\n",
       "5  [1, 814, \\r\\n\\r\\n                    JARED WIL...\n",
       "6  [2, 573, \\r\\n\\r\\n                    NATHAN A ...\n",
       "7  [3, 687, \\r\\n\\r\\n                    FRANCISCO...\n",
       "8  [4, 623, \\r\\n\\r\\n                    PAUL MORR...\n",
       "9  [5, 569, \\r\\n\\r\\n                    DEREK G O..."
      ]
     },
     "execution_count": 43,
     "metadata": {},
     "output_type": "execute_result"
    }
   ],
   "source": [
    "df = pd.DataFrame(list_rows, columns=['raw'])\n",
    "df.head(10)"
   ]
  },
  {
   "cell_type": "markdown",
   "metadata": {},
   "source": [
    "### Cleaning the fields"
   ]
  },
  {
   "cell_type": "code",
   "execution_count": 44,
   "metadata": {},
   "outputs": [
    {
     "data": {
      "text/html": [
       "<div>\n",
       "<style scoped>\n",
       "    .dataframe tbody tr th:only-of-type {\n",
       "        vertical-align: middle;\n",
       "    }\n",
       "\n",
       "    .dataframe tbody tr th {\n",
       "        vertical-align: top;\n",
       "    }\n",
       "\n",
       "    .dataframe thead th {\n",
       "        text-align: right;\n",
       "    }\n",
       "</style>\n",
       "<table border=\"1\" class=\"dataframe\">\n",
       "  <thead>\n",
       "    <tr style=\"text-align: right;\">\n",
       "      <th></th>\n",
       "      <th>0</th>\n",
       "      <th>1</th>\n",
       "      <th>2</th>\n",
       "      <th>3</th>\n",
       "      <th>4</th>\n",
       "      <th>5</th>\n",
       "      <th>6</th>\n",
       "      <th>7</th>\n",
       "      <th>8</th>\n",
       "      <th>9</th>\n",
       "    </tr>\n",
       "  </thead>\n",
       "  <tbody>\n",
       "    <tr>\n",
       "      <th>0</th>\n",
       "      <td>[]</td>\n",
       "      <td>None</td>\n",
       "      <td>None</td>\n",
       "      <td>None</td>\n",
       "      <td>None</td>\n",
       "      <td>None</td>\n",
       "      <td>None</td>\n",
       "      <td>None</td>\n",
       "      <td>None</td>\n",
       "      <td>None</td>\n",
       "    </tr>\n",
       "    <tr>\n",
       "      <th>1</th>\n",
       "      <td>[Finishers:</td>\n",
       "      <td>577]</td>\n",
       "      <td>None</td>\n",
       "      <td>None</td>\n",
       "      <td>None</td>\n",
       "      <td>None</td>\n",
       "      <td>None</td>\n",
       "      <td>None</td>\n",
       "      <td>None</td>\n",
       "      <td>None</td>\n",
       "    </tr>\n",
       "    <tr>\n",
       "      <th>2</th>\n",
       "      <td>[Male:</td>\n",
       "      <td>414]</td>\n",
       "      <td>None</td>\n",
       "      <td>None</td>\n",
       "      <td>None</td>\n",
       "      <td>None</td>\n",
       "      <td>None</td>\n",
       "      <td>None</td>\n",
       "      <td>None</td>\n",
       "      <td>None</td>\n",
       "    </tr>\n",
       "    <tr>\n",
       "      <th>3</th>\n",
       "      <td>[Female:</td>\n",
       "      <td>163]</td>\n",
       "      <td>None</td>\n",
       "      <td>None</td>\n",
       "      <td>None</td>\n",
       "      <td>None</td>\n",
       "      <td>None</td>\n",
       "      <td>None</td>\n",
       "      <td>None</td>\n",
       "      <td>None</td>\n",
       "    </tr>\n",
       "    <tr>\n",
       "      <th>4</th>\n",
       "      <td>[]</td>\n",
       "      <td>None</td>\n",
       "      <td>None</td>\n",
       "      <td>None</td>\n",
       "      <td>None</td>\n",
       "      <td>None</td>\n",
       "      <td>None</td>\n",
       "      <td>None</td>\n",
       "      <td>None</td>\n",
       "      <td>None</td>\n",
       "    </tr>\n",
       "    <tr>\n",
       "      <th>5</th>\n",
       "      <td>[1</td>\n",
       "      <td>814</td>\n",
       "      <td>\\r\\n\\r\\n                    JARED WILSON\\r\\n\\...</td>\n",
       "      <td>M</td>\n",
       "      <td>TIGARD</td>\n",
       "      <td>OR</td>\n",
       "      <td>36:21</td>\n",
       "      <td>5:51</td>\n",
       "      <td>36:24</td>\n",
       "      <td>]</td>\n",
       "    </tr>\n",
       "    <tr>\n",
       "      <th>6</th>\n",
       "      <td>[2</td>\n",
       "      <td>573</td>\n",
       "      <td>\\r\\n\\r\\n                    NATHAN A SUSTERSI...</td>\n",
       "      <td>M</td>\n",
       "      <td>PORTLAND</td>\n",
       "      <td>OR</td>\n",
       "      <td>36:42</td>\n",
       "      <td>5:55</td>\n",
       "      <td>36:45</td>\n",
       "      <td>\\n\\r\\n                            INTEL TEAM ...</td>\n",
       "    </tr>\n",
       "    <tr>\n",
       "      <th>7</th>\n",
       "      <td>[3</td>\n",
       "      <td>687</td>\n",
       "      <td>\\r\\n\\r\\n                    FRANCISCO MAYA\\r\\...</td>\n",
       "      <td>M</td>\n",
       "      <td>PORTLAND</td>\n",
       "      <td>OR</td>\n",
       "      <td>37:44</td>\n",
       "      <td>6:05</td>\n",
       "      <td>37:48</td>\n",
       "      <td>]</td>\n",
       "    </tr>\n",
       "    <tr>\n",
       "      <th>8</th>\n",
       "      <td>[4</td>\n",
       "      <td>623</td>\n",
       "      <td>\\r\\n\\r\\n                    PAUL MORROW\\r\\n\\r...</td>\n",
       "      <td>M</td>\n",
       "      <td>BEAVERTON</td>\n",
       "      <td>OR</td>\n",
       "      <td>38:34</td>\n",
       "      <td>6:13</td>\n",
       "      <td>38:37</td>\n",
       "      <td>]</td>\n",
       "    </tr>\n",
       "    <tr>\n",
       "      <th>9</th>\n",
       "      <td>[5</td>\n",
       "      <td>569</td>\n",
       "      <td>\\r\\n\\r\\n                    DEREK G OSBORNE\\r...</td>\n",
       "      <td>M</td>\n",
       "      <td>HILLSBORO</td>\n",
       "      <td>OR</td>\n",
       "      <td>39:21</td>\n",
       "      <td>6:20</td>\n",
       "      <td>39:24</td>\n",
       "      <td>\\n\\r\\n                            INTEL TEAM ...</td>\n",
       "    </tr>\n",
       "  </tbody>\n",
       "</table>\n",
       "</div>"
      ],
      "text/plain": [
       "             0      1                                                  2  \\\n",
       "0           []   None                                               None   \n",
       "1  [Finishers:   577]                                               None   \n",
       "2       [Male:   414]                                               None   \n",
       "3     [Female:   163]                                               None   \n",
       "4           []   None                                               None   \n",
       "5           [1    814   \\r\\n\\r\\n                    JARED WILSON\\r\\n\\...   \n",
       "6           [2    573   \\r\\n\\r\\n                    NATHAN A SUSTERSI...   \n",
       "7           [3    687   \\r\\n\\r\\n                    FRANCISCO MAYA\\r\\...   \n",
       "8           [4    623   \\r\\n\\r\\n                    PAUL MORROW\\r\\n\\r...   \n",
       "9           [5    569   \\r\\n\\r\\n                    DEREK G OSBORNE\\r...   \n",
       "\n",
       "      3           4     5       6      7       8  \\\n",
       "0  None        None  None    None   None    None   \n",
       "1  None        None  None    None   None    None   \n",
       "2  None        None  None    None   None    None   \n",
       "3  None        None  None    None   None    None   \n",
       "4  None        None  None    None   None    None   \n",
       "5     M      TIGARD    OR   36:21   5:51   36:24   \n",
       "6     M    PORTLAND    OR   36:42   5:55   36:45   \n",
       "7     M    PORTLAND    OR   37:44   6:05   37:48   \n",
       "8     M   BEAVERTON    OR   38:34   6:13   38:37   \n",
       "9     M   HILLSBORO    OR   39:21   6:20   39:24   \n",
       "\n",
       "                                                   9  \n",
       "0                                               None  \n",
       "1                                               None  \n",
       "2                                               None  \n",
       "3                                               None  \n",
       "4                                               None  \n",
       "5                                                  ]  \n",
       "6   \\n\\r\\n                            INTEL TEAM ...  \n",
       "7                                                  ]  \n",
       "8                                                  ]  \n",
       "9   \\n\\r\\n                            INTEL TEAM ...  "
      ]
     },
     "execution_count": 44,
     "metadata": {},
     "output_type": "execute_result"
    }
   ],
   "source": [
    "df1 = df['raw'].str.split(',', expand=True)\n",
    "df1.head(10)"
   ]
  },
  {
   "cell_type": "code",
   "execution_count": 45,
   "metadata": {},
   "outputs": [
    {
     "data": {
      "text/html": [
       "<div>\n",
       "<style scoped>\n",
       "    .dataframe tbody tr th:only-of-type {\n",
       "        vertical-align: middle;\n",
       "    }\n",
       "\n",
       "    .dataframe tbody tr th {\n",
       "        vertical-align: top;\n",
       "    }\n",
       "\n",
       "    .dataframe thead th {\n",
       "        text-align: right;\n",
       "    }\n",
       "</style>\n",
       "<table border=\"1\" class=\"dataframe\">\n",
       "  <thead>\n",
       "    <tr style=\"text-align: right;\">\n",
       "      <th></th>\n",
       "      <th>0</th>\n",
       "      <th>1</th>\n",
       "      <th>2</th>\n",
       "      <th>3</th>\n",
       "      <th>4</th>\n",
       "      <th>5</th>\n",
       "      <th>6</th>\n",
       "      <th>7</th>\n",
       "      <th>8</th>\n",
       "      <th>9</th>\n",
       "    </tr>\n",
       "  </thead>\n",
       "  <tbody>\n",
       "    <tr>\n",
       "      <th>0</th>\n",
       "      <td>]</td>\n",
       "      <td>None</td>\n",
       "      <td>None</td>\n",
       "      <td>None</td>\n",
       "      <td>None</td>\n",
       "      <td>None</td>\n",
       "      <td>None</td>\n",
       "      <td>None</td>\n",
       "      <td>None</td>\n",
       "      <td>None</td>\n",
       "    </tr>\n",
       "    <tr>\n",
       "      <th>1</th>\n",
       "      <td>Finishers:</td>\n",
       "      <td>577]</td>\n",
       "      <td>None</td>\n",
       "      <td>None</td>\n",
       "      <td>None</td>\n",
       "      <td>None</td>\n",
       "      <td>None</td>\n",
       "      <td>None</td>\n",
       "      <td>None</td>\n",
       "      <td>None</td>\n",
       "    </tr>\n",
       "    <tr>\n",
       "      <th>2</th>\n",
       "      <td>Male:</td>\n",
       "      <td>414]</td>\n",
       "      <td>None</td>\n",
       "      <td>None</td>\n",
       "      <td>None</td>\n",
       "      <td>None</td>\n",
       "      <td>None</td>\n",
       "      <td>None</td>\n",
       "      <td>None</td>\n",
       "      <td>None</td>\n",
       "    </tr>\n",
       "    <tr>\n",
       "      <th>3</th>\n",
       "      <td>Female:</td>\n",
       "      <td>163]</td>\n",
       "      <td>None</td>\n",
       "      <td>None</td>\n",
       "      <td>None</td>\n",
       "      <td>None</td>\n",
       "      <td>None</td>\n",
       "      <td>None</td>\n",
       "      <td>None</td>\n",
       "      <td>None</td>\n",
       "    </tr>\n",
       "    <tr>\n",
       "      <th>4</th>\n",
       "      <td>]</td>\n",
       "      <td>None</td>\n",
       "      <td>None</td>\n",
       "      <td>None</td>\n",
       "      <td>None</td>\n",
       "      <td>None</td>\n",
       "      <td>None</td>\n",
       "      <td>None</td>\n",
       "      <td>None</td>\n",
       "      <td>None</td>\n",
       "    </tr>\n",
       "    <tr>\n",
       "      <th>5</th>\n",
       "      <td>1</td>\n",
       "      <td>814</td>\n",
       "      <td>\\r\\n\\r\\n                    JARED WILSON\\r\\n\\...</td>\n",
       "      <td>M</td>\n",
       "      <td>TIGARD</td>\n",
       "      <td>OR</td>\n",
       "      <td>36:21</td>\n",
       "      <td>5:51</td>\n",
       "      <td>36:24</td>\n",
       "      <td>]</td>\n",
       "    </tr>\n",
       "    <tr>\n",
       "      <th>6</th>\n",
       "      <td>2</td>\n",
       "      <td>573</td>\n",
       "      <td>\\r\\n\\r\\n                    NATHAN A SUSTERSI...</td>\n",
       "      <td>M</td>\n",
       "      <td>PORTLAND</td>\n",
       "      <td>OR</td>\n",
       "      <td>36:42</td>\n",
       "      <td>5:55</td>\n",
       "      <td>36:45</td>\n",
       "      <td>\\n\\r\\n                            INTEL TEAM ...</td>\n",
       "    </tr>\n",
       "    <tr>\n",
       "      <th>7</th>\n",
       "      <td>3</td>\n",
       "      <td>687</td>\n",
       "      <td>\\r\\n\\r\\n                    FRANCISCO MAYA\\r\\...</td>\n",
       "      <td>M</td>\n",
       "      <td>PORTLAND</td>\n",
       "      <td>OR</td>\n",
       "      <td>37:44</td>\n",
       "      <td>6:05</td>\n",
       "      <td>37:48</td>\n",
       "      <td>]</td>\n",
       "    </tr>\n",
       "    <tr>\n",
       "      <th>8</th>\n",
       "      <td>4</td>\n",
       "      <td>623</td>\n",
       "      <td>\\r\\n\\r\\n                    PAUL MORROW\\r\\n\\r...</td>\n",
       "      <td>M</td>\n",
       "      <td>BEAVERTON</td>\n",
       "      <td>OR</td>\n",
       "      <td>38:34</td>\n",
       "      <td>6:13</td>\n",
       "      <td>38:37</td>\n",
       "      <td>]</td>\n",
       "    </tr>\n",
       "    <tr>\n",
       "      <th>9</th>\n",
       "      <td>5</td>\n",
       "      <td>569</td>\n",
       "      <td>\\r\\n\\r\\n                    DEREK G OSBORNE\\r...</td>\n",
       "      <td>M</td>\n",
       "      <td>HILLSBORO</td>\n",
       "      <td>OR</td>\n",
       "      <td>39:21</td>\n",
       "      <td>6:20</td>\n",
       "      <td>39:24</td>\n",
       "      <td>\\n\\r\\n                            INTEL TEAM ...</td>\n",
       "    </tr>\n",
       "  </tbody>\n",
       "</table>\n",
       "</div>"
      ],
      "text/plain": [
       "            0      1                                                  2     3  \\\n",
       "0           ]   None                                               None  None   \n",
       "1  Finishers:   577]                                               None  None   \n",
       "2       Male:   414]                                               None  None   \n",
       "3     Female:   163]                                               None  None   \n",
       "4           ]   None                                               None  None   \n",
       "5           1    814   \\r\\n\\r\\n                    JARED WILSON\\r\\n\\...     M   \n",
       "6           2    573   \\r\\n\\r\\n                    NATHAN A SUSTERSI...     M   \n",
       "7           3    687   \\r\\n\\r\\n                    FRANCISCO MAYA\\r\\...     M   \n",
       "8           4    623   \\r\\n\\r\\n                    PAUL MORROW\\r\\n\\r...     M   \n",
       "9           5    569   \\r\\n\\r\\n                    DEREK G OSBORNE\\r...     M   \n",
       "\n",
       "            4     5       6      7       8  \\\n",
       "0        None  None    None   None    None   \n",
       "1        None  None    None   None    None   \n",
       "2        None  None    None   None    None   \n",
       "3        None  None    None   None    None   \n",
       "4        None  None    None   None    None   \n",
       "5      TIGARD    OR   36:21   5:51   36:24   \n",
       "6    PORTLAND    OR   36:42   5:55   36:45   \n",
       "7    PORTLAND    OR   37:44   6:05   37:48   \n",
       "8   BEAVERTON    OR   38:34   6:13   38:37   \n",
       "9   HILLSBORO    OR   39:21   6:20   39:24   \n",
       "\n",
       "                                                   9  \n",
       "0                                               None  \n",
       "1                                               None  \n",
       "2                                               None  \n",
       "3                                               None  \n",
       "4                                               None  \n",
       "5                                                  ]  \n",
       "6   \\n\\r\\n                            INTEL TEAM ...  \n",
       "7                                                  ]  \n",
       "8                                                  ]  \n",
       "9   \\n\\r\\n                            INTEL TEAM ...  "
      ]
     },
     "execution_count": 45,
     "metadata": {},
     "output_type": "execute_result"
    }
   ],
   "source": [
    "df1[0] = df1[0].str.strip('[')\n",
    "df1.head(10)"
   ]
  },
  {
   "cell_type": "code",
   "execution_count": 46,
   "metadata": {},
   "outputs": [],
   "source": [
    "col_labels = soup.find_all('th')"
   ]
  },
  {
   "cell_type": "code",
   "execution_count": 47,
   "metadata": {},
   "outputs": [
    {
     "name": "stdout",
     "output_type": "stream",
     "text": [
      "['[Place, Bib, Name, Gender, City, State, Chip Time, Chip Pace, Gun Time, Team]']\n"
     ]
    }
   ],
   "source": [
    "all_header = []\n",
    "col_str = str(col_labels)\n",
    "cleantext2 = bs(col_str, \"lxml\").get_text()\n",
    "all_header.append(cleantext2)\n",
    "print(all_header)"
   ]
  },
  {
   "cell_type": "code",
   "execution_count": 48,
   "metadata": {},
   "outputs": [
    {
     "data": {
      "text/html": [
       "<div>\n",
       "<style scoped>\n",
       "    .dataframe tbody tr th:only-of-type {\n",
       "        vertical-align: middle;\n",
       "    }\n",
       "\n",
       "    .dataframe tbody tr th {\n",
       "        vertical-align: top;\n",
       "    }\n",
       "\n",
       "    .dataframe thead th {\n",
       "        text-align: right;\n",
       "    }\n",
       "</style>\n",
       "<table border=\"1\" class=\"dataframe\">\n",
       "  <thead>\n",
       "    <tr style=\"text-align: right;\">\n",
       "      <th></th>\n",
       "      <th>0</th>\n",
       "    </tr>\n",
       "  </thead>\n",
       "  <tbody>\n",
       "    <tr>\n",
       "      <th>0</th>\n",
       "      <td>[Place, Bib, Name, Gender, City, State, Chip T...</td>\n",
       "    </tr>\n",
       "  </tbody>\n",
       "</table>\n",
       "</div>"
      ],
      "text/plain": [
       "                                                   0\n",
       "0  [Place, Bib, Name, Gender, City, State, Chip T..."
      ]
     },
     "execution_count": 48,
     "metadata": {},
     "output_type": "execute_result"
    }
   ],
   "source": [
    "df2 = pd.DataFrame(all_header)\n",
    "df2.head()"
   ]
  },
  {
   "cell_type": "code",
   "execution_count": 49,
   "metadata": {},
   "outputs": [
    {
     "data": {
      "text/html": [
       "<div>\n",
       "<style scoped>\n",
       "    .dataframe tbody tr th:only-of-type {\n",
       "        vertical-align: middle;\n",
       "    }\n",
       "\n",
       "    .dataframe tbody tr th {\n",
       "        vertical-align: top;\n",
       "    }\n",
       "\n",
       "    .dataframe thead th {\n",
       "        text-align: right;\n",
       "    }\n",
       "</style>\n",
       "<table border=\"1\" class=\"dataframe\">\n",
       "  <thead>\n",
       "    <tr style=\"text-align: right;\">\n",
       "      <th></th>\n",
       "      <th>0</th>\n",
       "      <th>1</th>\n",
       "      <th>2</th>\n",
       "      <th>3</th>\n",
       "      <th>4</th>\n",
       "      <th>5</th>\n",
       "      <th>6</th>\n",
       "      <th>7</th>\n",
       "      <th>8</th>\n",
       "      <th>9</th>\n",
       "    </tr>\n",
       "  </thead>\n",
       "  <tbody>\n",
       "    <tr>\n",
       "      <th>0</th>\n",
       "      <td>[Place</td>\n",
       "      <td>Bib</td>\n",
       "      <td>Name</td>\n",
       "      <td>Gender</td>\n",
       "      <td>City</td>\n",
       "      <td>State</td>\n",
       "      <td>Chip Time</td>\n",
       "      <td>Chip Pace</td>\n",
       "      <td>Gun Time</td>\n",
       "      <td>Team]</td>\n",
       "    </tr>\n",
       "  </tbody>\n",
       "</table>\n",
       "</div>"
      ],
      "text/plain": [
       "        0     1      2        3      4       5           6           7  \\\n",
       "0  [Place   Bib   Name   Gender   City   State   Chip Time   Chip Pace   \n",
       "\n",
       "           8       9  \n",
       "0   Gun Time   Team]  "
      ]
     },
     "execution_count": 49,
     "metadata": {},
     "output_type": "execute_result"
    }
   ],
   "source": [
    "df3 = df2[0].str.split(',', expand=True)\n",
    "df3.head()"
   ]
  },
  {
   "cell_type": "code",
   "execution_count": 50,
   "metadata": {},
   "outputs": [
    {
     "data": {
      "text/html": [
       "<div>\n",
       "<style scoped>\n",
       "    .dataframe tbody tr th:only-of-type {\n",
       "        vertical-align: middle;\n",
       "    }\n",
       "\n",
       "    .dataframe tbody tr th {\n",
       "        vertical-align: top;\n",
       "    }\n",
       "\n",
       "    .dataframe thead th {\n",
       "        text-align: right;\n",
       "    }\n",
       "</style>\n",
       "<table border=\"1\" class=\"dataframe\">\n",
       "  <thead>\n",
       "    <tr style=\"text-align: right;\">\n",
       "      <th></th>\n",
       "      <th>0</th>\n",
       "      <th>1</th>\n",
       "      <th>2</th>\n",
       "      <th>3</th>\n",
       "      <th>4</th>\n",
       "      <th>5</th>\n",
       "      <th>6</th>\n",
       "      <th>7</th>\n",
       "      <th>8</th>\n",
       "      <th>9</th>\n",
       "    </tr>\n",
       "  </thead>\n",
       "  <tbody>\n",
       "    <tr>\n",
       "      <th>0</th>\n",
       "      <td>[Place</td>\n",
       "      <td>Bib</td>\n",
       "      <td>Name</td>\n",
       "      <td>Gender</td>\n",
       "      <td>City</td>\n",
       "      <td>State</td>\n",
       "      <td>Chip Time</td>\n",
       "      <td>Chip Pace</td>\n",
       "      <td>Gun Time</td>\n",
       "      <td>Team]</td>\n",
       "    </tr>\n",
       "    <tr>\n",
       "      <th>0</th>\n",
       "      <td>]</td>\n",
       "      <td>None</td>\n",
       "      <td>None</td>\n",
       "      <td>None</td>\n",
       "      <td>None</td>\n",
       "      <td>None</td>\n",
       "      <td>None</td>\n",
       "      <td>None</td>\n",
       "      <td>None</td>\n",
       "      <td>None</td>\n",
       "    </tr>\n",
       "    <tr>\n",
       "      <th>1</th>\n",
       "      <td>Finishers:</td>\n",
       "      <td>577]</td>\n",
       "      <td>None</td>\n",
       "      <td>None</td>\n",
       "      <td>None</td>\n",
       "      <td>None</td>\n",
       "      <td>None</td>\n",
       "      <td>None</td>\n",
       "      <td>None</td>\n",
       "      <td>None</td>\n",
       "    </tr>\n",
       "    <tr>\n",
       "      <th>2</th>\n",
       "      <td>Male:</td>\n",
       "      <td>414]</td>\n",
       "      <td>None</td>\n",
       "      <td>None</td>\n",
       "      <td>None</td>\n",
       "      <td>None</td>\n",
       "      <td>None</td>\n",
       "      <td>None</td>\n",
       "      <td>None</td>\n",
       "      <td>None</td>\n",
       "    </tr>\n",
       "    <tr>\n",
       "      <th>3</th>\n",
       "      <td>Female:</td>\n",
       "      <td>163]</td>\n",
       "      <td>None</td>\n",
       "      <td>None</td>\n",
       "      <td>None</td>\n",
       "      <td>None</td>\n",
       "      <td>None</td>\n",
       "      <td>None</td>\n",
       "      <td>None</td>\n",
       "      <td>None</td>\n",
       "    </tr>\n",
       "    <tr>\n",
       "      <th>4</th>\n",
       "      <td>]</td>\n",
       "      <td>None</td>\n",
       "      <td>None</td>\n",
       "      <td>None</td>\n",
       "      <td>None</td>\n",
       "      <td>None</td>\n",
       "      <td>None</td>\n",
       "      <td>None</td>\n",
       "      <td>None</td>\n",
       "      <td>None</td>\n",
       "    </tr>\n",
       "    <tr>\n",
       "      <th>5</th>\n",
       "      <td>1</td>\n",
       "      <td>814</td>\n",
       "      <td>\\r\\n\\r\\n                    JARED WILSON\\r\\n\\...</td>\n",
       "      <td>M</td>\n",
       "      <td>TIGARD</td>\n",
       "      <td>OR</td>\n",
       "      <td>36:21</td>\n",
       "      <td>5:51</td>\n",
       "      <td>36:24</td>\n",
       "      <td>]</td>\n",
       "    </tr>\n",
       "    <tr>\n",
       "      <th>6</th>\n",
       "      <td>2</td>\n",
       "      <td>573</td>\n",
       "      <td>\\r\\n\\r\\n                    NATHAN A SUSTERSI...</td>\n",
       "      <td>M</td>\n",
       "      <td>PORTLAND</td>\n",
       "      <td>OR</td>\n",
       "      <td>36:42</td>\n",
       "      <td>5:55</td>\n",
       "      <td>36:45</td>\n",
       "      <td>\\n\\r\\n                            INTEL TEAM ...</td>\n",
       "    </tr>\n",
       "    <tr>\n",
       "      <th>7</th>\n",
       "      <td>3</td>\n",
       "      <td>687</td>\n",
       "      <td>\\r\\n\\r\\n                    FRANCISCO MAYA\\r\\...</td>\n",
       "      <td>M</td>\n",
       "      <td>PORTLAND</td>\n",
       "      <td>OR</td>\n",
       "      <td>37:44</td>\n",
       "      <td>6:05</td>\n",
       "      <td>37:48</td>\n",
       "      <td>]</td>\n",
       "    </tr>\n",
       "    <tr>\n",
       "      <th>8</th>\n",
       "      <td>4</td>\n",
       "      <td>623</td>\n",
       "      <td>\\r\\n\\r\\n                    PAUL MORROW\\r\\n\\r...</td>\n",
       "      <td>M</td>\n",
       "      <td>BEAVERTON</td>\n",
       "      <td>OR</td>\n",
       "      <td>38:34</td>\n",
       "      <td>6:13</td>\n",
       "      <td>38:37</td>\n",
       "      <td>]</td>\n",
       "    </tr>\n",
       "  </tbody>\n",
       "</table>\n",
       "</div>"
      ],
      "text/plain": [
       "            0      1                                                  2  \\\n",
       "0      [Place    Bib                                               Name   \n",
       "0           ]   None                                               None   \n",
       "1  Finishers:   577]                                               None   \n",
       "2       Male:   414]                                               None   \n",
       "3     Female:   163]                                               None   \n",
       "4           ]   None                                               None   \n",
       "5           1    814   \\r\\n\\r\\n                    JARED WILSON\\r\\n\\...   \n",
       "6           2    573   \\r\\n\\r\\n                    NATHAN A SUSTERSI...   \n",
       "7           3    687   \\r\\n\\r\\n                    FRANCISCO MAYA\\r\\...   \n",
       "8           4    623   \\r\\n\\r\\n                    PAUL MORROW\\r\\n\\r...   \n",
       "\n",
       "         3           4       5           6           7          8  \\\n",
       "0   Gender        City   State   Chip Time   Chip Pace   Gun Time   \n",
       "0     None        None    None        None        None       None   \n",
       "1     None        None    None        None        None       None   \n",
       "2     None        None    None        None        None       None   \n",
       "3     None        None    None        None        None       None   \n",
       "4     None        None    None        None        None       None   \n",
       "5        M      TIGARD      OR       36:21        5:51      36:24   \n",
       "6        M    PORTLAND      OR       36:42        5:55      36:45   \n",
       "7        M    PORTLAND      OR       37:44        6:05      37:48   \n",
       "8        M   BEAVERTON      OR       38:34        6:13      38:37   \n",
       "\n",
       "                                                   9  \n",
       "0                                              Team]  \n",
       "0                                               None  \n",
       "1                                               None  \n",
       "2                                               None  \n",
       "3                                               None  \n",
       "4                                               None  \n",
       "5                                                  ]  \n",
       "6   \\n\\r\\n                            INTEL TEAM ...  \n",
       "7                                                  ]  \n",
       "8                                                  ]  "
      ]
     },
     "execution_count": 50,
     "metadata": {},
     "output_type": "execute_result"
    }
   ],
   "source": [
    "frames = [df3, df1]\n",
    "\n",
    "df4 = pd.concat(frames)\n",
    "df4.head(10)"
   ]
  },
  {
   "cell_type": "code",
   "execution_count": 51,
   "metadata": {},
   "outputs": [
    {
     "data": {
      "text/html": [
       "<div>\n",
       "<style scoped>\n",
       "    .dataframe tbody tr th:only-of-type {\n",
       "        vertical-align: middle;\n",
       "    }\n",
       "\n",
       "    .dataframe tbody tr th {\n",
       "        vertical-align: top;\n",
       "    }\n",
       "\n",
       "    .dataframe thead th {\n",
       "        text-align: right;\n",
       "    }\n",
       "</style>\n",
       "<table border=\"1\" class=\"dataframe\">\n",
       "  <thead>\n",
       "    <tr style=\"text-align: right;\">\n",
       "      <th></th>\n",
       "      <th>[Place</th>\n",
       "      <th>Bib</th>\n",
       "      <th>Name</th>\n",
       "      <th>Gender</th>\n",
       "      <th>City</th>\n",
       "      <th>State</th>\n",
       "      <th>Chip Time</th>\n",
       "      <th>Chip Pace</th>\n",
       "      <th>Gun Time</th>\n",
       "      <th>Team]</th>\n",
       "    </tr>\n",
       "  </thead>\n",
       "  <tbody>\n",
       "    <tr>\n",
       "      <th>0</th>\n",
       "      <td>[Place</td>\n",
       "      <td>Bib</td>\n",
       "      <td>Name</td>\n",
       "      <td>Gender</td>\n",
       "      <td>City</td>\n",
       "      <td>State</td>\n",
       "      <td>Chip Time</td>\n",
       "      <td>Chip Pace</td>\n",
       "      <td>Gun Time</td>\n",
       "      <td>Team]</td>\n",
       "    </tr>\n",
       "    <tr>\n",
       "      <th>0</th>\n",
       "      <td>]</td>\n",
       "      <td>None</td>\n",
       "      <td>None</td>\n",
       "      <td>None</td>\n",
       "      <td>None</td>\n",
       "      <td>None</td>\n",
       "      <td>None</td>\n",
       "      <td>None</td>\n",
       "      <td>None</td>\n",
       "      <td>None</td>\n",
       "    </tr>\n",
       "    <tr>\n",
       "      <th>1</th>\n",
       "      <td>Finishers:</td>\n",
       "      <td>577]</td>\n",
       "      <td>None</td>\n",
       "      <td>None</td>\n",
       "      <td>None</td>\n",
       "      <td>None</td>\n",
       "      <td>None</td>\n",
       "      <td>None</td>\n",
       "      <td>None</td>\n",
       "      <td>None</td>\n",
       "    </tr>\n",
       "    <tr>\n",
       "      <th>2</th>\n",
       "      <td>Male:</td>\n",
       "      <td>414]</td>\n",
       "      <td>None</td>\n",
       "      <td>None</td>\n",
       "      <td>None</td>\n",
       "      <td>None</td>\n",
       "      <td>None</td>\n",
       "      <td>None</td>\n",
       "      <td>None</td>\n",
       "      <td>None</td>\n",
       "    </tr>\n",
       "    <tr>\n",
       "      <th>3</th>\n",
       "      <td>Female:</td>\n",
       "      <td>163]</td>\n",
       "      <td>None</td>\n",
       "      <td>None</td>\n",
       "      <td>None</td>\n",
       "      <td>None</td>\n",
       "      <td>None</td>\n",
       "      <td>None</td>\n",
       "      <td>None</td>\n",
       "      <td>None</td>\n",
       "    </tr>\n",
       "  </tbody>\n",
       "</table>\n",
       "</div>"
      ],
      "text/plain": [
       "       [Place    Bib   Name   Gender   City   State   Chip Time   Chip Pace  \\\n",
       "0      [Place    Bib   Name   Gender   City   State   Chip Time   Chip Pace   \n",
       "0           ]   None   None     None   None    None        None        None   \n",
       "1  Finishers:   577]   None     None   None    None        None        None   \n",
       "2       Male:   414]   None     None   None    None        None        None   \n",
       "3     Female:   163]   None     None   None    None        None        None   \n",
       "\n",
       "    Gun Time   Team]  \n",
       "0   Gun Time   Team]  \n",
       "0       None    None  \n",
       "1       None    None  \n",
       "2       None    None  \n",
       "3       None    None  "
      ]
     },
     "execution_count": 51,
     "metadata": {},
     "output_type": "execute_result"
    }
   ],
   "source": [
    "df5 = df4.rename(columns=df4.iloc[0])\n",
    "df5.head()"
   ]
  },
  {
   "cell_type": "code",
   "execution_count": 52,
   "metadata": {},
   "outputs": [
    {
     "name": "stdout",
     "output_type": "stream",
     "text": [
      "<class 'pandas.core.frame.DataFrame'>\n",
      "Int64Index: 583 entries, 0 to 581\n",
      "Data columns (total 10 columns):\n",
      " #   Column      Non-Null Count  Dtype \n",
      "---  ------      --------------  ----- \n",
      " 0   [Place      583 non-null    object\n",
      " 1    Bib        581 non-null    object\n",
      " 2    Name       578 non-null    object\n",
      " 3    Gender     578 non-null    object\n",
      " 4    City       578 non-null    object\n",
      " 5    State      578 non-null    object\n",
      " 6    Chip Time  578 non-null    object\n",
      " 7    Chip Pace  578 non-null    object\n",
      " 8    Gun Time   578 non-null    object\n",
      " 9    Team]      578 non-null    object\n",
      "dtypes: object(10)\n",
      "memory usage: 50.1+ KB\n"
     ]
    },
    {
     "data": {
      "text/plain": [
       "(583, 10)"
      ]
     },
     "execution_count": 52,
     "metadata": {},
     "output_type": "execute_result"
    }
   ],
   "source": [
    "df5.info()\n",
    "df5.shape"
   ]
  },
  {
   "cell_type": "code",
   "execution_count": 53,
   "metadata": {},
   "outputs": [],
   "source": [
    "df6 = df5.dropna(axis=0, how='any')"
   ]
  },
  {
   "cell_type": "code",
   "execution_count": 54,
   "metadata": {},
   "outputs": [
    {
     "data": {
      "text/html": [
       "<div>\n",
       "<style scoped>\n",
       "    .dataframe tbody tr th:only-of-type {\n",
       "        vertical-align: middle;\n",
       "    }\n",
       "\n",
       "    .dataframe tbody tr th {\n",
       "        vertical-align: top;\n",
       "    }\n",
       "\n",
       "    .dataframe thead th {\n",
       "        text-align: right;\n",
       "    }\n",
       "</style>\n",
       "<table border=\"1\" class=\"dataframe\">\n",
       "  <thead>\n",
       "    <tr style=\"text-align: right;\">\n",
       "      <th></th>\n",
       "      <th>[Place</th>\n",
       "      <th>Bib</th>\n",
       "      <th>Name</th>\n",
       "      <th>Gender</th>\n",
       "      <th>City</th>\n",
       "      <th>State</th>\n",
       "      <th>Chip Time</th>\n",
       "      <th>Chip Pace</th>\n",
       "      <th>Gun Time</th>\n",
       "      <th>Team]</th>\n",
       "    </tr>\n",
       "  </thead>\n",
       "  <tbody>\n",
       "    <tr>\n",
       "      <th>5</th>\n",
       "      <td>1</td>\n",
       "      <td>814</td>\n",
       "      <td>\\r\\n\\r\\n                    JARED WILSON\\r\\n\\...</td>\n",
       "      <td>M</td>\n",
       "      <td>TIGARD</td>\n",
       "      <td>OR</td>\n",
       "      <td>36:21</td>\n",
       "      <td>5:51</td>\n",
       "      <td>36:24</td>\n",
       "      <td>]</td>\n",
       "    </tr>\n",
       "    <tr>\n",
       "      <th>6</th>\n",
       "      <td>2</td>\n",
       "      <td>573</td>\n",
       "      <td>\\r\\n\\r\\n                    NATHAN A SUSTERSI...</td>\n",
       "      <td>M</td>\n",
       "      <td>PORTLAND</td>\n",
       "      <td>OR</td>\n",
       "      <td>36:42</td>\n",
       "      <td>5:55</td>\n",
       "      <td>36:45</td>\n",
       "      <td>\\n\\r\\n                            INTEL TEAM ...</td>\n",
       "    </tr>\n",
       "    <tr>\n",
       "      <th>7</th>\n",
       "      <td>3</td>\n",
       "      <td>687</td>\n",
       "      <td>\\r\\n\\r\\n                    FRANCISCO MAYA\\r\\...</td>\n",
       "      <td>M</td>\n",
       "      <td>PORTLAND</td>\n",
       "      <td>OR</td>\n",
       "      <td>37:44</td>\n",
       "      <td>6:05</td>\n",
       "      <td>37:48</td>\n",
       "      <td>]</td>\n",
       "    </tr>\n",
       "    <tr>\n",
       "      <th>8</th>\n",
       "      <td>4</td>\n",
       "      <td>623</td>\n",
       "      <td>\\r\\n\\r\\n                    PAUL MORROW\\r\\n\\r...</td>\n",
       "      <td>M</td>\n",
       "      <td>BEAVERTON</td>\n",
       "      <td>OR</td>\n",
       "      <td>38:34</td>\n",
       "      <td>6:13</td>\n",
       "      <td>38:37</td>\n",
       "      <td>]</td>\n",
       "    </tr>\n",
       "    <tr>\n",
       "      <th>9</th>\n",
       "      <td>5</td>\n",
       "      <td>569</td>\n",
       "      <td>\\r\\n\\r\\n                    DEREK G OSBORNE\\r...</td>\n",
       "      <td>M</td>\n",
       "      <td>HILLSBORO</td>\n",
       "      <td>OR</td>\n",
       "      <td>39:21</td>\n",
       "      <td>6:20</td>\n",
       "      <td>39:24</td>\n",
       "      <td>\\n\\r\\n                            INTEL TEAM ...</td>\n",
       "    </tr>\n",
       "  </tbody>\n",
       "</table>\n",
       "</div>"
      ],
      "text/plain": [
       "  [Place   Bib                                               Name  Gender  \\\n",
       "5      1   814   \\r\\n\\r\\n                    JARED WILSON\\r\\n\\...       M   \n",
       "6      2   573   \\r\\n\\r\\n                    NATHAN A SUSTERSI...       M   \n",
       "7      3   687   \\r\\n\\r\\n                    FRANCISCO MAYA\\r\\...       M   \n",
       "8      4   623   \\r\\n\\r\\n                    PAUL MORROW\\r\\n\\r...       M   \n",
       "9      5   569   \\r\\n\\r\\n                    DEREK G OSBORNE\\r...       M   \n",
       "\n",
       "         City  State  Chip Time  Chip Pace  Gun Time  \\\n",
       "5      TIGARD     OR      36:21       5:51     36:24   \n",
       "6    PORTLAND     OR      36:42       5:55     36:45   \n",
       "7    PORTLAND     OR      37:44       6:05     37:48   \n",
       "8   BEAVERTON     OR      38:34       6:13     38:37   \n",
       "9   HILLSBORO     OR      39:21       6:20     39:24   \n",
       "\n",
       "                                               Team]  \n",
       "5                                                  ]  \n",
       "6   \\n\\r\\n                            INTEL TEAM ...  \n",
       "7                                                  ]  \n",
       "8                                                  ]  \n",
       "9   \\n\\r\\n                            INTEL TEAM ...  "
      ]
     },
     "execution_count": 54,
     "metadata": {},
     "output_type": "execute_result"
    }
   ],
   "source": [
    "df7 = df6.drop(df6.index[0])\n",
    "df7.head()"
   ]
  },
  {
   "cell_type": "code",
   "execution_count": 55,
   "metadata": {},
   "outputs": [
    {
     "data": {
      "text/html": [
       "<div>\n",
       "<style scoped>\n",
       "    .dataframe tbody tr th:only-of-type {\n",
       "        vertical-align: middle;\n",
       "    }\n",
       "\n",
       "    .dataframe tbody tr th {\n",
       "        vertical-align: top;\n",
       "    }\n",
       "\n",
       "    .dataframe thead th {\n",
       "        text-align: right;\n",
       "    }\n",
       "</style>\n",
       "<table border=\"1\" class=\"dataframe\">\n",
       "  <thead>\n",
       "    <tr style=\"text-align: right;\">\n",
       "      <th></th>\n",
       "      <th>Place</th>\n",
       "      <th>Bib</th>\n",
       "      <th>Name</th>\n",
       "      <th>Gender</th>\n",
       "      <th>City</th>\n",
       "      <th>State</th>\n",
       "      <th>Chip Time</th>\n",
       "      <th>Chip Pace</th>\n",
       "      <th>Gun Time</th>\n",
       "      <th>Team</th>\n",
       "    </tr>\n",
       "  </thead>\n",
       "  <tbody>\n",
       "    <tr>\n",
       "      <th>5</th>\n",
       "      <td>1</td>\n",
       "      <td>814</td>\n",
       "      <td>\\r\\n\\r\\n                    JARED WILSON\\r\\n\\...</td>\n",
       "      <td>M</td>\n",
       "      <td>TIGARD</td>\n",
       "      <td>OR</td>\n",
       "      <td>36:21</td>\n",
       "      <td>5:51</td>\n",
       "      <td>36:24</td>\n",
       "      <td>]</td>\n",
       "    </tr>\n",
       "    <tr>\n",
       "      <th>6</th>\n",
       "      <td>2</td>\n",
       "      <td>573</td>\n",
       "      <td>\\r\\n\\r\\n                    NATHAN A SUSTERSI...</td>\n",
       "      <td>M</td>\n",
       "      <td>PORTLAND</td>\n",
       "      <td>OR</td>\n",
       "      <td>36:42</td>\n",
       "      <td>5:55</td>\n",
       "      <td>36:45</td>\n",
       "      <td>\\n\\r\\n                            INTEL TEAM ...</td>\n",
       "    </tr>\n",
       "    <tr>\n",
       "      <th>7</th>\n",
       "      <td>3</td>\n",
       "      <td>687</td>\n",
       "      <td>\\r\\n\\r\\n                    FRANCISCO MAYA\\r\\...</td>\n",
       "      <td>M</td>\n",
       "      <td>PORTLAND</td>\n",
       "      <td>OR</td>\n",
       "      <td>37:44</td>\n",
       "      <td>6:05</td>\n",
       "      <td>37:48</td>\n",
       "      <td>]</td>\n",
       "    </tr>\n",
       "    <tr>\n",
       "      <th>8</th>\n",
       "      <td>4</td>\n",
       "      <td>623</td>\n",
       "      <td>\\r\\n\\r\\n                    PAUL MORROW\\r\\n\\r...</td>\n",
       "      <td>M</td>\n",
       "      <td>BEAVERTON</td>\n",
       "      <td>OR</td>\n",
       "      <td>38:34</td>\n",
       "      <td>6:13</td>\n",
       "      <td>38:37</td>\n",
       "      <td>]</td>\n",
       "    </tr>\n",
       "    <tr>\n",
       "      <th>9</th>\n",
       "      <td>5</td>\n",
       "      <td>569</td>\n",
       "      <td>\\r\\n\\r\\n                    DEREK G OSBORNE\\r...</td>\n",
       "      <td>M</td>\n",
       "      <td>HILLSBORO</td>\n",
       "      <td>OR</td>\n",
       "      <td>39:21</td>\n",
       "      <td>6:20</td>\n",
       "      <td>39:24</td>\n",
       "      <td>\\n\\r\\n                            INTEL TEAM ...</td>\n",
       "    </tr>\n",
       "  </tbody>\n",
       "</table>\n",
       "</div>"
      ],
      "text/plain": [
       "  Place   Bib                                               Name  Gender  \\\n",
       "5     1   814   \\r\\n\\r\\n                    JARED WILSON\\r\\n\\...       M   \n",
       "6     2   573   \\r\\n\\r\\n                    NATHAN A SUSTERSI...       M   \n",
       "7     3   687   \\r\\n\\r\\n                    FRANCISCO MAYA\\r\\...       M   \n",
       "8     4   623   \\r\\n\\r\\n                    PAUL MORROW\\r\\n\\r...       M   \n",
       "9     5   569   \\r\\n\\r\\n                    DEREK G OSBORNE\\r...       M   \n",
       "\n",
       "         City  State  Chip Time  Chip Pace  Gun Time  \\\n",
       "5      TIGARD     OR      36:21       5:51     36:24   \n",
       "6    PORTLAND     OR      36:42       5:55     36:45   \n",
       "7    PORTLAND     OR      37:44       6:05     37:48   \n",
       "8   BEAVERTON     OR      38:34       6:13     38:37   \n",
       "9   HILLSBORO     OR      39:21       6:20     39:24   \n",
       "\n",
       "                                                Team  \n",
       "5                                                  ]  \n",
       "6   \\n\\r\\n                            INTEL TEAM ...  \n",
       "7                                                  ]  \n",
       "8                                                  ]  \n",
       "9   \\n\\r\\n                            INTEL TEAM ...  "
      ]
     },
     "execution_count": 55,
     "metadata": {},
     "output_type": "execute_result"
    }
   ],
   "source": [
    "df7.rename(columns={'[Place': 'Place'},inplace=True)\n",
    "df7.rename(columns={' Team]': 'Team'},inplace=True)\n",
    "df7.head()"
   ]
  },
  {
   "cell_type": "code",
   "execution_count": 56,
   "metadata": {},
   "outputs": [
    {
     "data": {
      "text/html": [
       "<div>\n",
       "<style scoped>\n",
       "    .dataframe tbody tr th:only-of-type {\n",
       "        vertical-align: middle;\n",
       "    }\n",
       "\n",
       "    .dataframe tbody tr th {\n",
       "        vertical-align: top;\n",
       "    }\n",
       "\n",
       "    .dataframe thead th {\n",
       "        text-align: right;\n",
       "    }\n",
       "</style>\n",
       "<table border=\"1\" class=\"dataframe\">\n",
       "  <thead>\n",
       "    <tr style=\"text-align: right;\">\n",
       "      <th></th>\n",
       "      <th>Place</th>\n",
       "      <th>Bib</th>\n",
       "      <th>Name</th>\n",
       "      <th>Gender</th>\n",
       "      <th>City</th>\n",
       "      <th>State</th>\n",
       "      <th>Chip Time</th>\n",
       "      <th>Chip Pace</th>\n",
       "      <th>Gun Time</th>\n",
       "      <th>Team</th>\n",
       "    </tr>\n",
       "  </thead>\n",
       "  <tbody>\n",
       "    <tr>\n",
       "      <th>5</th>\n",
       "      <td>1</td>\n",
       "      <td>814</td>\n",
       "      <td>\\r\\n\\r\\n                    JARED WILSON\\r\\n\\...</td>\n",
       "      <td>M</td>\n",
       "      <td>TIGARD</td>\n",
       "      <td>OR</td>\n",
       "      <td>36:21</td>\n",
       "      <td>5:51</td>\n",
       "      <td>36:24</td>\n",
       "      <td></td>\n",
       "    </tr>\n",
       "    <tr>\n",
       "      <th>6</th>\n",
       "      <td>2</td>\n",
       "      <td>573</td>\n",
       "      <td>\\r\\n\\r\\n                    NATHAN A SUSTERSI...</td>\n",
       "      <td>M</td>\n",
       "      <td>PORTLAND</td>\n",
       "      <td>OR</td>\n",
       "      <td>36:42</td>\n",
       "      <td>5:55</td>\n",
       "      <td>36:45</td>\n",
       "      <td>\\n\\r\\n                            INTEL TEAM ...</td>\n",
       "    </tr>\n",
       "    <tr>\n",
       "      <th>7</th>\n",
       "      <td>3</td>\n",
       "      <td>687</td>\n",
       "      <td>\\r\\n\\r\\n                    FRANCISCO MAYA\\r\\...</td>\n",
       "      <td>M</td>\n",
       "      <td>PORTLAND</td>\n",
       "      <td>OR</td>\n",
       "      <td>37:44</td>\n",
       "      <td>6:05</td>\n",
       "      <td>37:48</td>\n",
       "      <td></td>\n",
       "    </tr>\n",
       "    <tr>\n",
       "      <th>8</th>\n",
       "      <td>4</td>\n",
       "      <td>623</td>\n",
       "      <td>\\r\\n\\r\\n                    PAUL MORROW\\r\\n\\r...</td>\n",
       "      <td>M</td>\n",
       "      <td>BEAVERTON</td>\n",
       "      <td>OR</td>\n",
       "      <td>38:34</td>\n",
       "      <td>6:13</td>\n",
       "      <td>38:37</td>\n",
       "      <td></td>\n",
       "    </tr>\n",
       "    <tr>\n",
       "      <th>9</th>\n",
       "      <td>5</td>\n",
       "      <td>569</td>\n",
       "      <td>\\r\\n\\r\\n                    DEREK G OSBORNE\\r...</td>\n",
       "      <td>M</td>\n",
       "      <td>HILLSBORO</td>\n",
       "      <td>OR</td>\n",
       "      <td>39:21</td>\n",
       "      <td>6:20</td>\n",
       "      <td>39:24</td>\n",
       "      <td>\\n\\r\\n                            INTEL TEAM ...</td>\n",
       "    </tr>\n",
       "  </tbody>\n",
       "</table>\n",
       "</div>"
      ],
      "text/plain": [
       "  Place   Bib                                               Name  Gender  \\\n",
       "5     1   814   \\r\\n\\r\\n                    JARED WILSON\\r\\n\\...       M   \n",
       "6     2   573   \\r\\n\\r\\n                    NATHAN A SUSTERSI...       M   \n",
       "7     3   687   \\r\\n\\r\\n                    FRANCISCO MAYA\\r\\...       M   \n",
       "8     4   623   \\r\\n\\r\\n                    PAUL MORROW\\r\\n\\r...       M   \n",
       "9     5   569   \\r\\n\\r\\n                    DEREK G OSBORNE\\r...       M   \n",
       "\n",
       "         City  State  Chip Time  Chip Pace  Gun Time  \\\n",
       "5      TIGARD     OR      36:21       5:51     36:24   \n",
       "6    PORTLAND     OR      36:42       5:55     36:45   \n",
       "7    PORTLAND     OR      37:44       6:05     37:48   \n",
       "8   BEAVERTON     OR      38:34       6:13     38:37   \n",
       "9   HILLSBORO     OR      39:21       6:20     39:24   \n",
       "\n",
       "                                                Team  \n",
       "5                                                     \n",
       "6   \\n\\r\\n                            INTEL TEAM ...  \n",
       "7                                                     \n",
       "8                                                     \n",
       "9   \\n\\r\\n                            INTEL TEAM ...  "
      ]
     },
     "execution_count": 56,
     "metadata": {},
     "output_type": "execute_result"
    }
   ],
   "source": [
    "df7['Team'] = df7['Team'].str.strip(']')\n",
    "df7.head()"
   ]
  },
  {
   "cell_type": "code",
   "execution_count": 57,
   "metadata": {},
   "outputs": [],
   "source": [
    "time_list = df7[' Chip Time'].tolist()\n",
    "\n",
    "# You can use a for loop to convert 'Chip Time' to minutes\n",
    "\n",
    "time_mins = []\n",
    "for i in time_list:\n",
    "    try:\n",
    "        h, m, s = i.split(':')\n",
    "        math = (int(h) * 3600 + int(m) * 60 + int(s))/60\n",
    "    except:\n",
    "        h, m = i.split(':')\n",
    "        math = (int(h) * 3600 + int(m) * 60) # + int(s))/60\n",
    "    time_mins.append(math)\n",
    "#print(time_mins)"
   ]
  },
  {
   "cell_type": "code",
   "execution_count": 58,
   "metadata": {},
   "outputs": [
    {
     "data": {
      "text/html": [
       "<div>\n",
       "<style scoped>\n",
       "    .dataframe tbody tr th:only-of-type {\n",
       "        vertical-align: middle;\n",
       "    }\n",
       "\n",
       "    .dataframe tbody tr th {\n",
       "        vertical-align: top;\n",
       "    }\n",
       "\n",
       "    .dataframe thead th {\n",
       "        text-align: right;\n",
       "    }\n",
       "</style>\n",
       "<table border=\"1\" class=\"dataframe\">\n",
       "  <thead>\n",
       "    <tr style=\"text-align: right;\">\n",
       "      <th></th>\n",
       "      <th>Place</th>\n",
       "      <th>Bib</th>\n",
       "      <th>Name</th>\n",
       "      <th>Gender</th>\n",
       "      <th>City</th>\n",
       "      <th>State</th>\n",
       "      <th>Chip Time</th>\n",
       "      <th>Chip Pace</th>\n",
       "      <th>Gun Time</th>\n",
       "      <th>Team</th>\n",
       "      <th>Runner_mins</th>\n",
       "    </tr>\n",
       "  </thead>\n",
       "  <tbody>\n",
       "    <tr>\n",
       "      <th>5</th>\n",
       "      <td>1</td>\n",
       "      <td>814</td>\n",
       "      <td>\\r\\n\\r\\n                    JARED WILSON\\r\\n\\...</td>\n",
       "      <td>M</td>\n",
       "      <td>TIGARD</td>\n",
       "      <td>OR</td>\n",
       "      <td>36:21</td>\n",
       "      <td>5:51</td>\n",
       "      <td>36:24</td>\n",
       "      <td></td>\n",
       "      <td>130860.0</td>\n",
       "    </tr>\n",
       "    <tr>\n",
       "      <th>6</th>\n",
       "      <td>2</td>\n",
       "      <td>573</td>\n",
       "      <td>\\r\\n\\r\\n                    NATHAN A SUSTERSI...</td>\n",
       "      <td>M</td>\n",
       "      <td>PORTLAND</td>\n",
       "      <td>OR</td>\n",
       "      <td>36:42</td>\n",
       "      <td>5:55</td>\n",
       "      <td>36:45</td>\n",
       "      <td>\\n\\r\\n                            INTEL TEAM ...</td>\n",
       "      <td>132120.0</td>\n",
       "    </tr>\n",
       "    <tr>\n",
       "      <th>7</th>\n",
       "      <td>3</td>\n",
       "      <td>687</td>\n",
       "      <td>\\r\\n\\r\\n                    FRANCISCO MAYA\\r\\...</td>\n",
       "      <td>M</td>\n",
       "      <td>PORTLAND</td>\n",
       "      <td>OR</td>\n",
       "      <td>37:44</td>\n",
       "      <td>6:05</td>\n",
       "      <td>37:48</td>\n",
       "      <td></td>\n",
       "      <td>135840.0</td>\n",
       "    </tr>\n",
       "    <tr>\n",
       "      <th>8</th>\n",
       "      <td>4</td>\n",
       "      <td>623</td>\n",
       "      <td>\\r\\n\\r\\n                    PAUL MORROW\\r\\n\\r...</td>\n",
       "      <td>M</td>\n",
       "      <td>BEAVERTON</td>\n",
       "      <td>OR</td>\n",
       "      <td>38:34</td>\n",
       "      <td>6:13</td>\n",
       "      <td>38:37</td>\n",
       "      <td></td>\n",
       "      <td>138840.0</td>\n",
       "    </tr>\n",
       "    <tr>\n",
       "      <th>9</th>\n",
       "      <td>5</td>\n",
       "      <td>569</td>\n",
       "      <td>\\r\\n\\r\\n                    DEREK G OSBORNE\\r...</td>\n",
       "      <td>M</td>\n",
       "      <td>HILLSBORO</td>\n",
       "      <td>OR</td>\n",
       "      <td>39:21</td>\n",
       "      <td>6:20</td>\n",
       "      <td>39:24</td>\n",
       "      <td>\\n\\r\\n                            INTEL TEAM ...</td>\n",
       "      <td>141660.0</td>\n",
       "    </tr>\n",
       "  </tbody>\n",
       "</table>\n",
       "</div>"
      ],
      "text/plain": [
       "  Place   Bib                                               Name  Gender  \\\n",
       "5     1   814   \\r\\n\\r\\n                    JARED WILSON\\r\\n\\...       M   \n",
       "6     2   573   \\r\\n\\r\\n                    NATHAN A SUSTERSI...       M   \n",
       "7     3   687   \\r\\n\\r\\n                    FRANCISCO MAYA\\r\\...       M   \n",
       "8     4   623   \\r\\n\\r\\n                    PAUL MORROW\\r\\n\\r...       M   \n",
       "9     5   569   \\r\\n\\r\\n                    DEREK G OSBORNE\\r...       M   \n",
       "\n",
       "         City  State  Chip Time  Chip Pace  Gun Time  \\\n",
       "5      TIGARD     OR      36:21       5:51     36:24   \n",
       "6    PORTLAND     OR      36:42       5:55     36:45   \n",
       "7    PORTLAND     OR      37:44       6:05     37:48   \n",
       "8   BEAVERTON     OR      38:34       6:13     38:37   \n",
       "9   HILLSBORO     OR      39:21       6:20     39:24   \n",
       "\n",
       "                                                Team  Runner_mins  \n",
       "5                                                        130860.0  \n",
       "6   \\n\\r\\n                            INTEL TEAM ...     132120.0  \n",
       "7                                                        135840.0  \n",
       "8                                                        138840.0  \n",
       "9   \\n\\r\\n                            INTEL TEAM ...     141660.0  "
      ]
     },
     "execution_count": 58,
     "metadata": {},
     "output_type": "execute_result"
    }
   ],
   "source": [
    "df7['Runner_mins'] = time_mins\n",
    "df7.head()"
   ]
  },
  {
   "cell_type": "code",
   "execution_count": 59,
   "metadata": {},
   "outputs": [
    {
     "data": {
      "text/html": [
       "<div>\n",
       "<style scoped>\n",
       "    .dataframe tbody tr th:only-of-type {\n",
       "        vertical-align: middle;\n",
       "    }\n",
       "\n",
       "    .dataframe tbody tr th {\n",
       "        vertical-align: top;\n",
       "    }\n",
       "\n",
       "    .dataframe thead th {\n",
       "        text-align: right;\n",
       "    }\n",
       "</style>\n",
       "<table border=\"1\" class=\"dataframe\">\n",
       "  <thead>\n",
       "    <tr style=\"text-align: right;\">\n",
       "      <th></th>\n",
       "      <th>Runner_mins</th>\n",
       "    </tr>\n",
       "  </thead>\n",
       "  <tbody>\n",
       "    <tr>\n",
       "      <th>count</th>\n",
       "      <td>577.000000</td>\n",
       "    </tr>\n",
       "    <tr>\n",
       "      <th>mean</th>\n",
       "      <td>97617.157972</td>\n",
       "    </tr>\n",
       "    <tr>\n",
       "      <th>std</th>\n",
       "      <td>92975.700498</td>\n",
       "    </tr>\n",
       "    <tr>\n",
       "      <th>min</th>\n",
       "      <td>60.016667</td>\n",
       "    </tr>\n",
       "    <tr>\n",
       "      <th>25%</th>\n",
       "      <td>68.300000</td>\n",
       "    </tr>\n",
       "    <tr>\n",
       "      <th>50%</th>\n",
       "      <td>152580.000000</td>\n",
       "    </tr>\n",
       "    <tr>\n",
       "      <th>75%</th>\n",
       "      <td>186540.000000</td>\n",
       "    </tr>\n",
       "    <tr>\n",
       "      <th>max</th>\n",
       "      <td>215700.000000</td>\n",
       "    </tr>\n",
       "  </tbody>\n",
       "</table>\n",
       "</div>"
      ],
      "text/plain": [
       "         Runner_mins\n",
       "count     577.000000\n",
       "mean    97617.157972\n",
       "std     92975.700498\n",
       "min        60.016667\n",
       "25%        68.300000\n",
       "50%    152580.000000\n",
       "75%    186540.000000\n",
       "max    215700.000000"
      ]
     },
     "execution_count": 59,
     "metadata": {},
     "output_type": "execute_result"
    }
   ],
   "source": [
    "df7.describe(include=[np.number])"
   ]
  },
  {
   "cell_type": "code",
   "execution_count": 60,
   "metadata": {},
   "outputs": [],
   "source": [
    "from pylab import rcParams\n",
    "rcParams['figure.figsize'] = 15, 5"
   ]
  },
  {
   "cell_type": "code",
   "execution_count": 61,
   "metadata": {},
   "outputs": [
    {
     "data": {
      "text/plain": [
       "([<matplotlib.axis.XTick at 0x7f0932d2da00>], [Text(1, 0, 'Runners')])"
      ]
     },
     "execution_count": 61,
     "metadata": {},
     "output_type": "execute_result"
    },
    {
     "data": {
      "image/png": "[encoded data removed]",
      "text/plain": [
       "<Figure size 1080x360 with 1 Axes>"
      ]
     },
     "metadata": {
      "needs_background": "light"
     },
     "output_type": "display_data"
    }
   ],
   "source": [
    "df7.boxplot(column='Runner_mins')\n",
    "plt.grid(True, axis='y')\n",
    "plt.ylabel('Chip Time')\n",
    "plt.xticks([1], ['Runners'])"
   ]
  },
  {
   "cell_type": "code",
   "execution_count": 68,
   "metadata": {},
   "outputs": [
    {
     "name": "stderr",
     "output_type": "stream",
     "text": [
      "/home/rsouza/environments/default_env/lib/python3.8/site-packages/seaborn/distributions.py:2557: FutureWarning: `distplot` is a deprecated function and will be removed in a future version. Please adapt your code to use either `displot` (a figure-level function with similar flexibility) or `histplot` (an axes-level function for histograms).\n",
      "  warnings.warn(msg, FutureWarning)\n"
     ]
    },
    {
     "data": {
      "image/png": "[encoded data removed]",
      "text/plain": [
       "<Figure size 1080x360 with 1 Axes>"
      ]
     },
     "metadata": {
      "needs_background": "light"
     },
     "output_type": "display_data"
    }
   ],
   "source": [
    "x = df7['Runner_mins']\n",
    "ax = sns.distplot(x, hist=True, kde=True, rug=False, color='m', bins=25, hist_kws={'edgecolor':'black'})\n",
    "plt.show()"
   ]
  },
  {
   "cell_type": "code",
   "execution_count": 69,
   "metadata": {},
   "outputs": [
    {
     "name": "stderr",
     "output_type": "stream",
     "text": [
      "/home/rsouza/environments/default_env/lib/python3.8/site-packages/seaborn/distributions.py:2557: FutureWarning: `distplot` is a deprecated function and will be removed in a future version. Please adapt your code to use either `displot` (a figure-level function with similar flexibility) or `histplot` (an axes-level function for histograms).\n",
      "  warnings.warn(msg, FutureWarning)\n",
      "/home/rsouza/environments/default_env/lib/python3.8/site-packages/seaborn/distributions.py:2557: FutureWarning: `distplot` is a deprecated function and will be removed in a future version. Please adapt your code to use either `displot` (a figure-level function with similar flexibility) or `kdeplot` (an axes-level function for kernel density plots).\n",
      "  warnings.warn(msg, FutureWarning)\n"
     ]
    },
    {
     "data": {
      "text/plain": [
       "<matplotlib.legend.Legend at 0x7f0930c36970>"
      ]
     },
     "execution_count": 69,
     "metadata": {},
     "output_type": "execute_result"
    },
    {
     "data": {
      "image/png": "[encoded data removed]",
      "text/plain": [
       "<Figure size 1080x360 with 1 Axes>"
      ]
     },
     "metadata": {
      "needs_background": "light"
     },
     "output_type": "display_data"
    }
   ],
   "source": [
    "f_fuko = df7.loc[df7[' Gender']==' F']['Runner_mins']\n",
    "m_fuko = df7.loc[df7[' Gender']==' M']['Runner_mins']\n",
    "sns.distplot(f_fuko, hist=True, kde=True, rug=False, hist_kws={'edgecolor':'black'}, label='Female')\n",
    "sns.distplot(m_fuko, hist=False, kde=True, rug=False, hist_kws={'edgecolor':'black'}, label='Male')\n",
    "plt.legend()"
   ]
  },
  {
   "cell_type": "code",
   "execution_count": 70,
   "metadata": {},
   "outputs": [
    {
     "name": "stdout",
     "output_type": "stream",
     "text": [
      "        Runner_mins                                                     \\\n",
      "              count           mean           std        min        25%   \n",
      " Gender                                                                  \n",
      " F            163.0   61844.168609  91100.389419  60.200000  66.550000   \n",
      " M            414.0  111701.692432  89982.758495  60.016667  69.320833   \n",
      "\n",
      "                                            \n",
      "                   50%       75%       max  \n",
      " Gender                                     \n",
      " F           75.216667  173280.0  215700.0  \n",
      " M       163320.000000  188745.0  215580.0  \n"
     ]
    }
   ],
   "source": [
    "g_stats = df7.groupby(\" Gender\", as_index=True).describe()\n",
    "print(g_stats)"
   ]
  },
  {
   "cell_type": "code",
   "execution_count": 71,
   "metadata": {},
   "outputs": [
    {
     "data": {
      "text/plain": [
       "Text(0.5, 0.98, '')"
      ]
     },
     "execution_count": 71,
     "metadata": {},
     "output_type": "execute_result"
    },
    {
     "data": {
      "image/png": "[encoded data removed]",
      "text/plain": [
       "<Figure size 1080x360 with 1 Axes>"
      ]
     },
     "metadata": {
      "needs_background": "light"
     },
     "output_type": "display_data"
    }
   ],
   "source": [
    "df7.boxplot(column='Runner_mins', by=' Gender')\n",
    "plt.ylabel('Chip Time')\n",
    "plt.suptitle(\"\")"
   ]
  },
  {
   "cell_type": "markdown",
   "metadata": {},
   "source": [
    "## Now it is your turn:"
   ]
  },
  {
   "cell_type": "code",
   "execution_count": null,
   "metadata": {},
   "outputs": [],
   "source": [
    "url = 'https://www.4icu.org/at/vienna/'"
   ]
  }
 ],
 "metadata": {
  "kernelspec": {
   "display_name": "Python 3",
   "language": "python",
   "name": "python3"
  },
  "language_info": {
   "codemirror_mode": {
    "name": "ipython",
    "version": 3
   },
   "file_extension": ".py",
   "mimetype": "text/x-python",
   "name": "python",
   "nbconvert_exporter": "python",
   "pygments_lexer": "ipython3",
   "version": "3.8.5"
  }
 },
 "nbformat": 4,
 "nbformat_minor": 4
}
